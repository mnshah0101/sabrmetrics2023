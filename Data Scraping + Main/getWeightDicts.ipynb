{
 "cells": [
  {
   "cell_type": "code",
   "execution_count": 4,
   "id": "4d7e3cdd",
   "metadata": {},
   "outputs": [],
   "source": [
    "def getBatterStats(batter: int, pitch_types: list, start: str, end: str):\n",
    "    full_bats = statcast_batter(start, end, batter)\n",
    "    strikes = 0\n",
    "    balls = 0\n",
    "    fouls = 0\n",
    "    singles = 0\n",
    "    doubles = 0\n",
    "    triples = 0\n",
    "    home_runs = 0\n",
    "    hbp = 0\n",
    "    pitches = 0\n",
    "    for pitch in pitch_types:\n",
    "        bats = full_bats[full_bats['pitch_type'] == pitch]\n",
    "        bats.dropna(subset='type',inplace=True)\n",
    "        pitches = pitches+ len(bats)\n",
    "        try:\n",
    "            strikes += int(bats['type'].value_counts()['S']) \n",
    "        except:\n",
    "            strikes += 0\n",
    "        try:\n",
    "            balls += int(bats['type'].value_counts()['B'])\n",
    "        except:\n",
    "            balls += 0\n",
    "        try:\n",
    "            fouls += int(bats['description'].value_counts()['foul'])\n",
    "        except:\n",
    "            fouls += 0\n",
    "        try:\n",
    "            singles += int(bats['events'].value_counts()['single'])\n",
    "        except:\n",
    "            singles += 0\n",
    "        try:\n",
    "            doubles += int(bats['events'].value_counts()['double'])\n",
    "        except:\n",
    "            doubles+=0\n",
    "        try:\n",
    "            triples += int(bats['events'].value_counts()['triple'])\n",
    "        except:\n",
    "            triples+=0\n",
    "        try:\n",
    "            home_runs += int(bats['events'].value_counts()['home_run'])\n",
    "        except:\n",
    "            home_runs+=0\n",
    "        try:\n",
    "            hbp += int(bats['events'].value_counts()['hit_by_pitch'])\n",
    "        except:\n",
    "            hbp+=0\n",
    "    print(pitches)\n",
    "    return_list = [\n",
    "    strikes, balls, fouls, singles, doubles, triples, home_runs, hbp\n",
    "  ]\n",
    "    return_list = [a/pitches for a in return_list]\n",
    "    return return_list"
   ]
  },
  {
   "cell_type": "code",
   "execution_count": 5,
   "id": "17cefa2f",
   "metadata": {},
   "outputs": [],
   "source": [
    "import pandas as pd\n",
    "import numpy as np\n",
    "from pybaseball import statcast_batter\n",
    "from tqdm.notebook import tqdm\n",
    "import pickle\n",
    "import json\n"
   ]
  },
  {
   "cell_type": "code",
   "execution_count": 1,
   "id": "b760cf7c",
   "metadata": {},
   "outputs": [
    {
     "ename": "NameError",
     "evalue": "name 'pd' is not defined",
     "output_type": "error",
     "traceback": [
      "\u001b[0;31m---------------------------------------------------------------------------\u001b[0m",
      "\u001b[0;31mNameError\u001b[0m                                 Traceback (most recent call last)",
      "Cell \u001b[0;32mIn [1], line 1\u001b[0m\n\u001b[0;32m----> 1\u001b[0m batters_df \u001b[38;5;241m=\u001b[39m \u001b[43mpd\u001b[49m\u001b[38;5;241m.\u001b[39mread_csv(\u001b[38;5;124m\"\u001b[39m\u001b[38;5;124m/Group B/Hoberg 6-22-22/SFG at ATL 6-22-22.csv\u001b[39m\u001b[38;5;124m\"\u001b[39m)\n",
      "\u001b[0;31mNameError\u001b[0m: name 'pd' is not defined"
     ]
    }
   ],
   "source": [
    "batters_df = pd.read_csv(\"/Group B/Hoberg 6-22-22/SFG at ATL 6-22-22.csv\")"
   ]
  },
  {
   "cell_type": "code",
   "execution_count": 7,
   "id": "edb00835",
   "metadata": {},
   "outputs": [],
   "source": [
    "batters = list(set(list(batters_df['batter'])))"
   ]
  },
  {
   "cell_type": "code",
   "execution_count": 8,
   "id": "19920945",
   "metadata": {},
   "outputs": [],
   "source": [
    "\n",
    "FB = ['FF', 'FC' , \"FT\" ,'FA' , 'SI' ,'SF']\n",
    "CH = [\"FS\" ,'CH', 'KC']\n",
    "CB = ['CB' , \"CU\" , \"KN\"]\n",
    "SL = ['SL']\n",
    "pitches = [FB,CH,CB,SL]"
   ]
  },
  {
   "cell_type": "code",
   "execution_count": 9,
   "id": "99370b26",
   "metadata": {},
   "outputs": [
    {
     "data": {
      "application/vnd.jupyter.widget-view+json": {
       "model_id": "d474bc7de71e43d298d0a6cb22246b45",
       "version_major": 2,
       "version_minor": 0
      },
      "text/plain": [
       "0it [00:00, ?it/s]"
      ]
     },
     "metadata": {},
     "output_type": "display_data"
    },
    {
     "data": {
      "application/vnd.jupyter.widget-view+json": {
       "model_id": "f456654df03d4325a25938bc2fe41a48",
       "version_major": 2,
       "version_minor": 0
      },
      "text/plain": [
       "  0%|          | 0/20 [00:00<?, ?it/s]"
      ]
     },
     "metadata": {},
     "output_type": "display_data"
    },
    {
     "name": "stdout",
     "output_type": "stream",
     "text": [
      "Gathering Player Data\n"
     ]
    },
    {
     "name": "stderr",
     "output_type": "stream",
     "text": [
      "/var/folders/1v/6kfsg1sj1h94v2jtztzln6rh0000gn/T/ipykernel_6546/1231845333.py:14: SettingWithCopyWarning: \n",
      "A value is trying to be set on a copy of a slice from a DataFrame\n",
      "\n",
      "See the caveats in the documentation: https://pandas.pydata.org/pandas-docs/stable/user_guide/indexing.html#returning-a-view-versus-a-copy\n",
      "  bats.dropna(subset='type',inplace=True)\n",
      "/var/folders/1v/6kfsg1sj1h94v2jtztzln6rh0000gn/T/ipykernel_6546/1231845333.py:14: SettingWithCopyWarning: \n",
      "A value is trying to be set on a copy of a slice from a DataFrame\n",
      "\n",
      "See the caveats in the documentation: https://pandas.pydata.org/pandas-docs/stable/user_guide/indexing.html#returning-a-view-versus-a-copy\n",
      "  bats.dropna(subset='type',inplace=True)\n",
      "/var/folders/1v/6kfsg1sj1h94v2jtztzln6rh0000gn/T/ipykernel_6546/1231845333.py:14: SettingWithCopyWarning: \n",
      "A value is trying to be set on a copy of a slice from a DataFrame\n",
      "\n",
      "See the caveats in the documentation: https://pandas.pydata.org/pandas-docs/stable/user_guide/indexing.html#returning-a-view-versus-a-copy\n",
      "  bats.dropna(subset='type',inplace=True)\n",
      "/var/folders/1v/6kfsg1sj1h94v2jtztzln6rh0000gn/T/ipykernel_6546/1231845333.py:14: SettingWithCopyWarning: \n",
      "A value is trying to be set on a copy of a slice from a DataFrame\n",
      "\n",
      "See the caveats in the documentation: https://pandas.pydata.org/pandas-docs/stable/user_guide/indexing.html#returning-a-view-versus-a-copy\n",
      "  bats.dropna(subset='type',inplace=True)\n",
      "/var/folders/1v/6kfsg1sj1h94v2jtztzln6rh0000gn/T/ipykernel_6546/1231845333.py:14: SettingWithCopyWarning: \n",
      "A value is trying to be set on a copy of a slice from a DataFrame\n",
      "\n",
      "See the caveats in the documentation: https://pandas.pydata.org/pandas-docs/stable/user_guide/indexing.html#returning-a-view-versus-a-copy\n",
      "  bats.dropna(subset='type',inplace=True)\n",
      "/var/folders/1v/6kfsg1sj1h94v2jtztzln6rh0000gn/T/ipykernel_6546/1231845333.py:14: SettingWithCopyWarning: \n",
      "A value is trying to be set on a copy of a slice from a DataFrame\n",
      "\n",
      "See the caveats in the documentation: https://pandas.pydata.org/pandas-docs/stable/user_guide/indexing.html#returning-a-view-versus-a-copy\n",
      "  bats.dropna(subset='type',inplace=True)\n"
     ]
    },
    {
     "name": "stdout",
     "output_type": "stream",
     "text": [
      "2672\n",
      "Gathering Player Data\n"
     ]
    },
    {
     "name": "stderr",
     "output_type": "stream",
     "text": [
      "/var/folders/1v/6kfsg1sj1h94v2jtztzln6rh0000gn/T/ipykernel_6546/1231845333.py:14: SettingWithCopyWarning: \n",
      "A value is trying to be set on a copy of a slice from a DataFrame\n",
      "\n",
      "See the caveats in the documentation: https://pandas.pydata.org/pandas-docs/stable/user_guide/indexing.html#returning-a-view-versus-a-copy\n",
      "  bats.dropna(subset='type',inplace=True)\n",
      "/var/folders/1v/6kfsg1sj1h94v2jtztzln6rh0000gn/T/ipykernel_6546/1231845333.py:14: SettingWithCopyWarning: \n",
      "A value is trying to be set on a copy of a slice from a DataFrame\n",
      "\n",
      "See the caveats in the documentation: https://pandas.pydata.org/pandas-docs/stable/user_guide/indexing.html#returning-a-view-versus-a-copy\n",
      "  bats.dropna(subset='type',inplace=True)\n",
      "/var/folders/1v/6kfsg1sj1h94v2jtztzln6rh0000gn/T/ipykernel_6546/1231845333.py:14: SettingWithCopyWarning: \n",
      "A value is trying to be set on a copy of a slice from a DataFrame\n",
      "\n",
      "See the caveats in the documentation: https://pandas.pydata.org/pandas-docs/stable/user_guide/indexing.html#returning-a-view-versus-a-copy\n",
      "  bats.dropna(subset='type',inplace=True)\n",
      "/var/folders/1v/6kfsg1sj1h94v2jtztzln6rh0000gn/T/ipykernel_6546/1231845333.py:14: SettingWithCopyWarning: \n",
      "A value is trying to be set on a copy of a slice from a DataFrame\n",
      "\n",
      "See the caveats in the documentation: https://pandas.pydata.org/pandas-docs/stable/user_guide/indexing.html#returning-a-view-versus-a-copy\n",
      "  bats.dropna(subset='type',inplace=True)\n",
      "/var/folders/1v/6kfsg1sj1h94v2jtztzln6rh0000gn/T/ipykernel_6546/1231845333.py:14: SettingWithCopyWarning: \n",
      "A value is trying to be set on a copy of a slice from a DataFrame\n",
      "\n",
      "See the caveats in the documentation: https://pandas.pydata.org/pandas-docs/stable/user_guide/indexing.html#returning-a-view-versus-a-copy\n",
      "  bats.dropna(subset='type',inplace=True)\n",
      "/var/folders/1v/6kfsg1sj1h94v2jtztzln6rh0000gn/T/ipykernel_6546/1231845333.py:14: SettingWithCopyWarning: \n",
      "A value is trying to be set on a copy of a slice from a DataFrame\n",
      "\n",
      "See the caveats in the documentation: https://pandas.pydata.org/pandas-docs/stable/user_guide/indexing.html#returning-a-view-versus-a-copy\n",
      "  bats.dropna(subset='type',inplace=True)\n"
     ]
    },
    {
     "name": "stdout",
     "output_type": "stream",
     "text": [
      "739\n",
      "Gathering Player Data\n"
     ]
    },
    {
     "name": "stderr",
     "output_type": "stream",
     "text": [
      "/var/folders/1v/6kfsg1sj1h94v2jtztzln6rh0000gn/T/ipykernel_6546/1231845333.py:14: SettingWithCopyWarning: \n",
      "A value is trying to be set on a copy of a slice from a DataFrame\n",
      "\n",
      "See the caveats in the documentation: https://pandas.pydata.org/pandas-docs/stable/user_guide/indexing.html#returning-a-view-versus-a-copy\n",
      "  bats.dropna(subset='type',inplace=True)\n",
      "/var/folders/1v/6kfsg1sj1h94v2jtztzln6rh0000gn/T/ipykernel_6546/1231845333.py:14: SettingWithCopyWarning: \n",
      "A value is trying to be set on a copy of a slice from a DataFrame\n",
      "\n",
      "See the caveats in the documentation: https://pandas.pydata.org/pandas-docs/stable/user_guide/indexing.html#returning-a-view-versus-a-copy\n",
      "  bats.dropna(subset='type',inplace=True)\n",
      "/var/folders/1v/6kfsg1sj1h94v2jtztzln6rh0000gn/T/ipykernel_6546/1231845333.py:14: SettingWithCopyWarning: \n",
      "A value is trying to be set on a copy of a slice from a DataFrame\n",
      "\n",
      "See the caveats in the documentation: https://pandas.pydata.org/pandas-docs/stable/user_guide/indexing.html#returning-a-view-versus-a-copy\n",
      "  bats.dropna(subset='type',inplace=True)\n",
      "/var/folders/1v/6kfsg1sj1h94v2jtztzln6rh0000gn/T/ipykernel_6546/1231845333.py:14: SettingWithCopyWarning: \n",
      "A value is trying to be set on a copy of a slice from a DataFrame\n",
      "\n",
      "See the caveats in the documentation: https://pandas.pydata.org/pandas-docs/stable/user_guide/indexing.html#returning-a-view-versus-a-copy\n",
      "  bats.dropna(subset='type',inplace=True)\n",
      "/var/folders/1v/6kfsg1sj1h94v2jtztzln6rh0000gn/T/ipykernel_6546/1231845333.py:14: SettingWithCopyWarning: \n",
      "A value is trying to be set on a copy of a slice from a DataFrame\n",
      "\n",
      "See the caveats in the documentation: https://pandas.pydata.org/pandas-docs/stable/user_guide/indexing.html#returning-a-view-versus-a-copy\n",
      "  bats.dropna(subset='type',inplace=True)\n",
      "/var/folders/1v/6kfsg1sj1h94v2jtztzln6rh0000gn/T/ipykernel_6546/1231845333.py:14: SettingWithCopyWarning: \n",
      "A value is trying to be set on a copy of a slice from a DataFrame\n",
      "\n",
      "See the caveats in the documentation: https://pandas.pydata.org/pandas-docs/stable/user_guide/indexing.html#returning-a-view-versus-a-copy\n",
      "  bats.dropna(subset='type',inplace=True)\n"
     ]
    },
    {
     "name": "stdout",
     "output_type": "stream",
     "text": [
      "2749\n",
      "Gathering Player Data\n"
     ]
    },
    {
     "name": "stderr",
     "output_type": "stream",
     "text": [
      "/var/folders/1v/6kfsg1sj1h94v2jtztzln6rh0000gn/T/ipykernel_6546/1231845333.py:14: SettingWithCopyWarning: \n",
      "A value is trying to be set on a copy of a slice from a DataFrame\n",
      "\n",
      "See the caveats in the documentation: https://pandas.pydata.org/pandas-docs/stable/user_guide/indexing.html#returning-a-view-versus-a-copy\n",
      "  bats.dropna(subset='type',inplace=True)\n",
      "/var/folders/1v/6kfsg1sj1h94v2jtztzln6rh0000gn/T/ipykernel_6546/1231845333.py:14: SettingWithCopyWarning: \n",
      "A value is trying to be set on a copy of a slice from a DataFrame\n",
      "\n",
      "See the caveats in the documentation: https://pandas.pydata.org/pandas-docs/stable/user_guide/indexing.html#returning-a-view-versus-a-copy\n",
      "  bats.dropna(subset='type',inplace=True)\n",
      "/var/folders/1v/6kfsg1sj1h94v2jtztzln6rh0000gn/T/ipykernel_6546/1231845333.py:14: SettingWithCopyWarning: \n",
      "A value is trying to be set on a copy of a slice from a DataFrame\n",
      "\n",
      "See the caveats in the documentation: https://pandas.pydata.org/pandas-docs/stable/user_guide/indexing.html#returning-a-view-versus-a-copy\n",
      "  bats.dropna(subset='type',inplace=True)\n",
      "/var/folders/1v/6kfsg1sj1h94v2jtztzln6rh0000gn/T/ipykernel_6546/1231845333.py:14: SettingWithCopyWarning: \n",
      "A value is trying to be set on a copy of a slice from a DataFrame\n",
      "\n",
      "See the caveats in the documentation: https://pandas.pydata.org/pandas-docs/stable/user_guide/indexing.html#returning-a-view-versus-a-copy\n",
      "  bats.dropna(subset='type',inplace=True)\n",
      "/var/folders/1v/6kfsg1sj1h94v2jtztzln6rh0000gn/T/ipykernel_6546/1231845333.py:14: SettingWithCopyWarning: \n",
      "A value is trying to be set on a copy of a slice from a DataFrame\n",
      "\n",
      "See the caveats in the documentation: https://pandas.pydata.org/pandas-docs/stable/user_guide/indexing.html#returning-a-view-versus-a-copy\n",
      "  bats.dropna(subset='type',inplace=True)\n",
      "/var/folders/1v/6kfsg1sj1h94v2jtztzln6rh0000gn/T/ipykernel_6546/1231845333.py:14: SettingWithCopyWarning: \n",
      "A value is trying to be set on a copy of a slice from a DataFrame\n",
      "\n",
      "See the caveats in the documentation: https://pandas.pydata.org/pandas-docs/stable/user_guide/indexing.html#returning-a-view-versus-a-copy\n",
      "  bats.dropna(subset='type',inplace=True)\n"
     ]
    },
    {
     "name": "stdout",
     "output_type": "stream",
     "text": [
      "3446\n",
      "Gathering Player Data\n"
     ]
    },
    {
     "name": "stderr",
     "output_type": "stream",
     "text": [
      "/var/folders/1v/6kfsg1sj1h94v2jtztzln6rh0000gn/T/ipykernel_6546/1231845333.py:14: SettingWithCopyWarning: \n",
      "A value is trying to be set on a copy of a slice from a DataFrame\n",
      "\n",
      "See the caveats in the documentation: https://pandas.pydata.org/pandas-docs/stable/user_guide/indexing.html#returning-a-view-versus-a-copy\n",
      "  bats.dropna(subset='type',inplace=True)\n",
      "/var/folders/1v/6kfsg1sj1h94v2jtztzln6rh0000gn/T/ipykernel_6546/1231845333.py:14: SettingWithCopyWarning: \n",
      "A value is trying to be set on a copy of a slice from a DataFrame\n",
      "\n",
      "See the caveats in the documentation: https://pandas.pydata.org/pandas-docs/stable/user_guide/indexing.html#returning-a-view-versus-a-copy\n",
      "  bats.dropna(subset='type',inplace=True)\n",
      "/var/folders/1v/6kfsg1sj1h94v2jtztzln6rh0000gn/T/ipykernel_6546/1231845333.py:14: SettingWithCopyWarning: \n",
      "A value is trying to be set on a copy of a slice from a DataFrame\n",
      "\n",
      "See the caveats in the documentation: https://pandas.pydata.org/pandas-docs/stable/user_guide/indexing.html#returning-a-view-versus-a-copy\n",
      "  bats.dropna(subset='type',inplace=True)\n",
      "/var/folders/1v/6kfsg1sj1h94v2jtztzln6rh0000gn/T/ipykernel_6546/1231845333.py:14: SettingWithCopyWarning: \n",
      "A value is trying to be set on a copy of a slice from a DataFrame\n",
      "\n",
      "See the caveats in the documentation: https://pandas.pydata.org/pandas-docs/stable/user_guide/indexing.html#returning-a-view-versus-a-copy\n",
      "  bats.dropna(subset='type',inplace=True)\n",
      "/var/folders/1v/6kfsg1sj1h94v2jtztzln6rh0000gn/T/ipykernel_6546/1231845333.py:14: SettingWithCopyWarning: \n",
      "A value is trying to be set on a copy of a slice from a DataFrame\n",
      "\n",
      "See the caveats in the documentation: https://pandas.pydata.org/pandas-docs/stable/user_guide/indexing.html#returning-a-view-versus-a-copy\n",
      "  bats.dropna(subset='type',inplace=True)\n",
      "/var/folders/1v/6kfsg1sj1h94v2jtztzln6rh0000gn/T/ipykernel_6546/1231845333.py:14: SettingWithCopyWarning: \n",
      "A value is trying to be set on a copy of a slice from a DataFrame\n",
      "\n",
      "See the caveats in the documentation: https://pandas.pydata.org/pandas-docs/stable/user_guide/indexing.html#returning-a-view-versus-a-copy\n",
      "  bats.dropna(subset='type',inplace=True)\n"
     ]
    },
    {
     "name": "stdout",
     "output_type": "stream",
     "text": [
      "854\n",
      "Gathering Player Data\n"
     ]
    },
    {
     "name": "stderr",
     "output_type": "stream",
     "text": [
      "/var/folders/1v/6kfsg1sj1h94v2jtztzln6rh0000gn/T/ipykernel_6546/1231845333.py:14: SettingWithCopyWarning: \n",
      "A value is trying to be set on a copy of a slice from a DataFrame\n",
      "\n",
      "See the caveats in the documentation: https://pandas.pydata.org/pandas-docs/stable/user_guide/indexing.html#returning-a-view-versus-a-copy\n",
      "  bats.dropna(subset='type',inplace=True)\n",
      "/var/folders/1v/6kfsg1sj1h94v2jtztzln6rh0000gn/T/ipykernel_6546/1231845333.py:14: SettingWithCopyWarning: \n",
      "A value is trying to be set on a copy of a slice from a DataFrame\n",
      "\n",
      "See the caveats in the documentation: https://pandas.pydata.org/pandas-docs/stable/user_guide/indexing.html#returning-a-view-versus-a-copy\n",
      "  bats.dropna(subset='type',inplace=True)\n",
      "/var/folders/1v/6kfsg1sj1h94v2jtztzln6rh0000gn/T/ipykernel_6546/1231845333.py:14: SettingWithCopyWarning: \n",
      "A value is trying to be set on a copy of a slice from a DataFrame\n",
      "\n",
      "See the caveats in the documentation: https://pandas.pydata.org/pandas-docs/stable/user_guide/indexing.html#returning-a-view-versus-a-copy\n",
      "  bats.dropna(subset='type',inplace=True)\n",
      "/var/folders/1v/6kfsg1sj1h94v2jtztzln6rh0000gn/T/ipykernel_6546/1231845333.py:14: SettingWithCopyWarning: \n",
      "A value is trying to be set on a copy of a slice from a DataFrame\n",
      "\n",
      "See the caveats in the documentation: https://pandas.pydata.org/pandas-docs/stable/user_guide/indexing.html#returning-a-view-versus-a-copy\n",
      "  bats.dropna(subset='type',inplace=True)\n",
      "/var/folders/1v/6kfsg1sj1h94v2jtztzln6rh0000gn/T/ipykernel_6546/1231845333.py:14: SettingWithCopyWarning: \n",
      "A value is trying to be set on a copy of a slice from a DataFrame\n",
      "\n",
      "See the caveats in the documentation: https://pandas.pydata.org/pandas-docs/stable/user_guide/indexing.html#returning-a-view-versus-a-copy\n",
      "  bats.dropna(subset='type',inplace=True)\n",
      "/var/folders/1v/6kfsg1sj1h94v2jtztzln6rh0000gn/T/ipykernel_6546/1231845333.py:14: SettingWithCopyWarning: \n",
      "A value is trying to be set on a copy of a slice from a DataFrame\n",
      "\n",
      "See the caveats in the documentation: https://pandas.pydata.org/pandas-docs/stable/user_guide/indexing.html#returning-a-view-versus-a-copy\n",
      "  bats.dropna(subset='type',inplace=True)\n"
     ]
    },
    {
     "name": "stdout",
     "output_type": "stream",
     "text": [
      "4491\n",
      "Gathering Player Data\n"
     ]
    },
    {
     "name": "stderr",
     "output_type": "stream",
     "text": [
      "/var/folders/1v/6kfsg1sj1h94v2jtztzln6rh0000gn/T/ipykernel_6546/1231845333.py:14: SettingWithCopyWarning: \n",
      "A value is trying to be set on a copy of a slice from a DataFrame\n",
      "\n",
      "See the caveats in the documentation: https://pandas.pydata.org/pandas-docs/stable/user_guide/indexing.html#returning-a-view-versus-a-copy\n",
      "  bats.dropna(subset='type',inplace=True)\n",
      "/var/folders/1v/6kfsg1sj1h94v2jtztzln6rh0000gn/T/ipykernel_6546/1231845333.py:14: SettingWithCopyWarning: \n",
      "A value is trying to be set on a copy of a slice from a DataFrame\n",
      "\n",
      "See the caveats in the documentation: https://pandas.pydata.org/pandas-docs/stable/user_guide/indexing.html#returning-a-view-versus-a-copy\n",
      "  bats.dropna(subset='type',inplace=True)\n",
      "/var/folders/1v/6kfsg1sj1h94v2jtztzln6rh0000gn/T/ipykernel_6546/1231845333.py:14: SettingWithCopyWarning: \n",
      "A value is trying to be set on a copy of a slice from a DataFrame\n",
      "\n",
      "See the caveats in the documentation: https://pandas.pydata.org/pandas-docs/stable/user_guide/indexing.html#returning-a-view-versus-a-copy\n",
      "  bats.dropna(subset='type',inplace=True)\n",
      "/var/folders/1v/6kfsg1sj1h94v2jtztzln6rh0000gn/T/ipykernel_6546/1231845333.py:14: SettingWithCopyWarning: \n",
      "A value is trying to be set on a copy of a slice from a DataFrame\n",
      "\n",
      "See the caveats in the documentation: https://pandas.pydata.org/pandas-docs/stable/user_guide/indexing.html#returning-a-view-versus-a-copy\n",
      "  bats.dropna(subset='type',inplace=True)\n",
      "/var/folders/1v/6kfsg1sj1h94v2jtztzln6rh0000gn/T/ipykernel_6546/1231845333.py:14: SettingWithCopyWarning: \n",
      "A value is trying to be set on a copy of a slice from a DataFrame\n",
      "\n",
      "See the caveats in the documentation: https://pandas.pydata.org/pandas-docs/stable/user_guide/indexing.html#returning-a-view-versus-a-copy\n",
      "  bats.dropna(subset='type',inplace=True)\n",
      "/var/folders/1v/6kfsg1sj1h94v2jtztzln6rh0000gn/T/ipykernel_6546/1231845333.py:14: SettingWithCopyWarning: \n",
      "A value is trying to be set on a copy of a slice from a DataFrame\n",
      "\n",
      "See the caveats in the documentation: https://pandas.pydata.org/pandas-docs/stable/user_guide/indexing.html#returning-a-view-versus-a-copy\n",
      "  bats.dropna(subset='type',inplace=True)\n"
     ]
    },
    {
     "name": "stdout",
     "output_type": "stream",
     "text": [
      "1086\n",
      "Gathering Player Data\n"
     ]
    },
    {
     "name": "stderr",
     "output_type": "stream",
     "text": [
      "/var/folders/1v/6kfsg1sj1h94v2jtztzln6rh0000gn/T/ipykernel_6546/1231845333.py:14: SettingWithCopyWarning: \n",
      "A value is trying to be set on a copy of a slice from a DataFrame\n",
      "\n",
      "See the caveats in the documentation: https://pandas.pydata.org/pandas-docs/stable/user_guide/indexing.html#returning-a-view-versus-a-copy\n",
      "  bats.dropna(subset='type',inplace=True)\n",
      "/var/folders/1v/6kfsg1sj1h94v2jtztzln6rh0000gn/T/ipykernel_6546/1231845333.py:14: SettingWithCopyWarning: \n",
      "A value is trying to be set on a copy of a slice from a DataFrame\n",
      "\n",
      "See the caveats in the documentation: https://pandas.pydata.org/pandas-docs/stable/user_guide/indexing.html#returning-a-view-versus-a-copy\n",
      "  bats.dropna(subset='type',inplace=True)\n",
      "/var/folders/1v/6kfsg1sj1h94v2jtztzln6rh0000gn/T/ipykernel_6546/1231845333.py:14: SettingWithCopyWarning: \n",
      "A value is trying to be set on a copy of a slice from a DataFrame\n",
      "\n",
      "See the caveats in the documentation: https://pandas.pydata.org/pandas-docs/stable/user_guide/indexing.html#returning-a-view-versus-a-copy\n",
      "  bats.dropna(subset='type',inplace=True)\n",
      "/var/folders/1v/6kfsg1sj1h94v2jtztzln6rh0000gn/T/ipykernel_6546/1231845333.py:14: SettingWithCopyWarning: \n",
      "A value is trying to be set on a copy of a slice from a DataFrame\n",
      "\n",
      "See the caveats in the documentation: https://pandas.pydata.org/pandas-docs/stable/user_guide/indexing.html#returning-a-view-versus-a-copy\n",
      "  bats.dropna(subset='type',inplace=True)\n",
      "/var/folders/1v/6kfsg1sj1h94v2jtztzln6rh0000gn/T/ipykernel_6546/1231845333.py:14: SettingWithCopyWarning: \n",
      "A value is trying to be set on a copy of a slice from a DataFrame\n",
      "\n",
      "See the caveats in the documentation: https://pandas.pydata.org/pandas-docs/stable/user_guide/indexing.html#returning-a-view-versus-a-copy\n",
      "  bats.dropna(subset='type',inplace=True)\n",
      "/var/folders/1v/6kfsg1sj1h94v2jtztzln6rh0000gn/T/ipykernel_6546/1231845333.py:14: SettingWithCopyWarning: \n",
      "A value is trying to be set on a copy of a slice from a DataFrame\n",
      "\n",
      "See the caveats in the documentation: https://pandas.pydata.org/pandas-docs/stable/user_guide/indexing.html#returning-a-view-versus-a-copy\n",
      "  bats.dropna(subset='type',inplace=True)\n"
     ]
    },
    {
     "name": "stdout",
     "output_type": "stream",
     "text": [
      "5245\n",
      "Gathering Player Data\n"
     ]
    },
    {
     "name": "stderr",
     "output_type": "stream",
     "text": [
      "/var/folders/1v/6kfsg1sj1h94v2jtztzln6rh0000gn/T/ipykernel_6546/1231845333.py:14: SettingWithCopyWarning: \n",
      "A value is trying to be set on a copy of a slice from a DataFrame\n",
      "\n",
      "See the caveats in the documentation: https://pandas.pydata.org/pandas-docs/stable/user_guide/indexing.html#returning-a-view-versus-a-copy\n",
      "  bats.dropna(subset='type',inplace=True)\n",
      "/var/folders/1v/6kfsg1sj1h94v2jtztzln6rh0000gn/T/ipykernel_6546/1231845333.py:14: SettingWithCopyWarning: \n",
      "A value is trying to be set on a copy of a slice from a DataFrame\n",
      "\n",
      "See the caveats in the documentation: https://pandas.pydata.org/pandas-docs/stable/user_guide/indexing.html#returning-a-view-versus-a-copy\n",
      "  bats.dropna(subset='type',inplace=True)\n",
      "/var/folders/1v/6kfsg1sj1h94v2jtztzln6rh0000gn/T/ipykernel_6546/1231845333.py:14: SettingWithCopyWarning: \n",
      "A value is trying to be set on a copy of a slice from a DataFrame\n",
      "\n",
      "See the caveats in the documentation: https://pandas.pydata.org/pandas-docs/stable/user_guide/indexing.html#returning-a-view-versus-a-copy\n",
      "  bats.dropna(subset='type',inplace=True)\n",
      "/var/folders/1v/6kfsg1sj1h94v2jtztzln6rh0000gn/T/ipykernel_6546/1231845333.py:14: SettingWithCopyWarning: \n",
      "A value is trying to be set on a copy of a slice from a DataFrame\n",
      "\n",
      "See the caveats in the documentation: https://pandas.pydata.org/pandas-docs/stable/user_guide/indexing.html#returning-a-view-versus-a-copy\n",
      "  bats.dropna(subset='type',inplace=True)\n",
      "/var/folders/1v/6kfsg1sj1h94v2jtztzln6rh0000gn/T/ipykernel_6546/1231845333.py:14: SettingWithCopyWarning: \n",
      "A value is trying to be set on a copy of a slice from a DataFrame\n",
      "\n",
      "See the caveats in the documentation: https://pandas.pydata.org/pandas-docs/stable/user_guide/indexing.html#returning-a-view-versus-a-copy\n",
      "  bats.dropna(subset='type',inplace=True)\n",
      "/var/folders/1v/6kfsg1sj1h94v2jtztzln6rh0000gn/T/ipykernel_6546/1231845333.py:14: SettingWithCopyWarning: \n",
      "A value is trying to be set on a copy of a slice from a DataFrame\n",
      "\n",
      "See the caveats in the documentation: https://pandas.pydata.org/pandas-docs/stable/user_guide/indexing.html#returning-a-view-versus-a-copy\n",
      "  bats.dropna(subset='type',inplace=True)\n"
     ]
    },
    {
     "name": "stdout",
     "output_type": "stream",
     "text": [
      "7773\n",
      "Gathering Player Data\n"
     ]
    },
    {
     "name": "stderr",
     "output_type": "stream",
     "text": [
      "/var/folders/1v/6kfsg1sj1h94v2jtztzln6rh0000gn/T/ipykernel_6546/1231845333.py:14: SettingWithCopyWarning: \n",
      "A value is trying to be set on a copy of a slice from a DataFrame\n",
      "\n",
      "See the caveats in the documentation: https://pandas.pydata.org/pandas-docs/stable/user_guide/indexing.html#returning-a-view-versus-a-copy\n",
      "  bats.dropna(subset='type',inplace=True)\n",
      "/var/folders/1v/6kfsg1sj1h94v2jtztzln6rh0000gn/T/ipykernel_6546/1231845333.py:14: SettingWithCopyWarning: \n",
      "A value is trying to be set on a copy of a slice from a DataFrame\n",
      "\n",
      "See the caveats in the documentation: https://pandas.pydata.org/pandas-docs/stable/user_guide/indexing.html#returning-a-view-versus-a-copy\n",
      "  bats.dropna(subset='type',inplace=True)\n",
      "/var/folders/1v/6kfsg1sj1h94v2jtztzln6rh0000gn/T/ipykernel_6546/1231845333.py:14: SettingWithCopyWarning: \n",
      "A value is trying to be set on a copy of a slice from a DataFrame\n",
      "\n",
      "See the caveats in the documentation: https://pandas.pydata.org/pandas-docs/stable/user_guide/indexing.html#returning-a-view-versus-a-copy\n",
      "  bats.dropna(subset='type',inplace=True)\n",
      "/var/folders/1v/6kfsg1sj1h94v2jtztzln6rh0000gn/T/ipykernel_6546/1231845333.py:14: SettingWithCopyWarning: \n",
      "A value is trying to be set on a copy of a slice from a DataFrame\n",
      "\n",
      "See the caveats in the documentation: https://pandas.pydata.org/pandas-docs/stable/user_guide/indexing.html#returning-a-view-versus-a-copy\n",
      "  bats.dropna(subset='type',inplace=True)\n",
      "/var/folders/1v/6kfsg1sj1h94v2jtztzln6rh0000gn/T/ipykernel_6546/1231845333.py:14: SettingWithCopyWarning: \n",
      "A value is trying to be set on a copy of a slice from a DataFrame\n",
      "\n",
      "See the caveats in the documentation: https://pandas.pydata.org/pandas-docs/stable/user_guide/indexing.html#returning-a-view-versus-a-copy\n",
      "  bats.dropna(subset='type',inplace=True)\n",
      "/var/folders/1v/6kfsg1sj1h94v2jtztzln6rh0000gn/T/ipykernel_6546/1231845333.py:14: SettingWithCopyWarning: \n",
      "A value is trying to be set on a copy of a slice from a DataFrame\n",
      "\n",
      "See the caveats in the documentation: https://pandas.pydata.org/pandas-docs/stable/user_guide/indexing.html#returning-a-view-versus-a-copy\n",
      "  bats.dropna(subset='type',inplace=True)\n"
     ]
    },
    {
     "name": "stdout",
     "output_type": "stream",
     "text": [
      "3739\n",
      "Gathering Player Data\n"
     ]
    },
    {
     "name": "stderr",
     "output_type": "stream",
     "text": [
      "/var/folders/1v/6kfsg1sj1h94v2jtztzln6rh0000gn/T/ipykernel_6546/1231845333.py:14: SettingWithCopyWarning: \n",
      "A value is trying to be set on a copy of a slice from a DataFrame\n",
      "\n",
      "See the caveats in the documentation: https://pandas.pydata.org/pandas-docs/stable/user_guide/indexing.html#returning-a-view-versus-a-copy\n",
      "  bats.dropna(subset='type',inplace=True)\n",
      "/var/folders/1v/6kfsg1sj1h94v2jtztzln6rh0000gn/T/ipykernel_6546/1231845333.py:14: SettingWithCopyWarning: \n",
      "A value is trying to be set on a copy of a slice from a DataFrame\n",
      "\n",
      "See the caveats in the documentation: https://pandas.pydata.org/pandas-docs/stable/user_guide/indexing.html#returning-a-view-versus-a-copy\n",
      "  bats.dropna(subset='type',inplace=True)\n",
      "/var/folders/1v/6kfsg1sj1h94v2jtztzln6rh0000gn/T/ipykernel_6546/1231845333.py:14: SettingWithCopyWarning: \n",
      "A value is trying to be set on a copy of a slice from a DataFrame\n",
      "\n",
      "See the caveats in the documentation: https://pandas.pydata.org/pandas-docs/stable/user_guide/indexing.html#returning-a-view-versus-a-copy\n",
      "  bats.dropna(subset='type',inplace=True)\n",
      "/var/folders/1v/6kfsg1sj1h94v2jtztzln6rh0000gn/T/ipykernel_6546/1231845333.py:14: SettingWithCopyWarning: \n",
      "A value is trying to be set on a copy of a slice from a DataFrame\n",
      "\n",
      "See the caveats in the documentation: https://pandas.pydata.org/pandas-docs/stable/user_guide/indexing.html#returning-a-view-versus-a-copy\n",
      "  bats.dropna(subset='type',inplace=True)\n",
      "/var/folders/1v/6kfsg1sj1h94v2jtztzln6rh0000gn/T/ipykernel_6546/1231845333.py:14: SettingWithCopyWarning: \n",
      "A value is trying to be set on a copy of a slice from a DataFrame\n",
      "\n",
      "See the caveats in the documentation: https://pandas.pydata.org/pandas-docs/stable/user_guide/indexing.html#returning-a-view-versus-a-copy\n",
      "  bats.dropna(subset='type',inplace=True)\n",
      "/var/folders/1v/6kfsg1sj1h94v2jtztzln6rh0000gn/T/ipykernel_6546/1231845333.py:14: SettingWithCopyWarning: \n",
      "A value is trying to be set on a copy of a slice from a DataFrame\n",
      "\n",
      "See the caveats in the documentation: https://pandas.pydata.org/pandas-docs/stable/user_guide/indexing.html#returning-a-view-versus-a-copy\n",
      "  bats.dropna(subset='type',inplace=True)\n"
     ]
    },
    {
     "name": "stdout",
     "output_type": "stream",
     "text": [
      "3432\n",
      "Gathering Player Data\n"
     ]
    },
    {
     "name": "stderr",
     "output_type": "stream",
     "text": [
      "/Users/moksh/miniforge3/lib/python3.10/site-packages/pybaseball/utils.py:295: DtypeWarning: Columns (87,88) have mixed types. Specify dtype option on import or set low_memory=False.\n",
      "  df = pd.read_csv(io.StringIO(data.text))\n",
      "/var/folders/1v/6kfsg1sj1h94v2jtztzln6rh0000gn/T/ipykernel_6546/1231845333.py:14: SettingWithCopyWarning: \n",
      "A value is trying to be set on a copy of a slice from a DataFrame\n",
      "\n",
      "See the caveats in the documentation: https://pandas.pydata.org/pandas-docs/stable/user_guide/indexing.html#returning-a-view-versus-a-copy\n",
      "  bats.dropna(subset='type',inplace=True)\n",
      "/var/folders/1v/6kfsg1sj1h94v2jtztzln6rh0000gn/T/ipykernel_6546/1231845333.py:14: SettingWithCopyWarning: \n",
      "A value is trying to be set on a copy of a slice from a DataFrame\n",
      "\n",
      "See the caveats in the documentation: https://pandas.pydata.org/pandas-docs/stable/user_guide/indexing.html#returning-a-view-versus-a-copy\n",
      "  bats.dropna(subset='type',inplace=True)\n",
      "/var/folders/1v/6kfsg1sj1h94v2jtztzln6rh0000gn/T/ipykernel_6546/1231845333.py:14: SettingWithCopyWarning: \n",
      "A value is trying to be set on a copy of a slice from a DataFrame\n",
      "\n",
      "See the caveats in the documentation: https://pandas.pydata.org/pandas-docs/stable/user_guide/indexing.html#returning-a-view-versus-a-copy\n",
      "  bats.dropna(subset='type',inplace=True)\n",
      "/var/folders/1v/6kfsg1sj1h94v2jtztzln6rh0000gn/T/ipykernel_6546/1231845333.py:14: SettingWithCopyWarning: \n",
      "A value is trying to be set on a copy of a slice from a DataFrame\n",
      "\n",
      "See the caveats in the documentation: https://pandas.pydata.org/pandas-docs/stable/user_guide/indexing.html#returning-a-view-versus-a-copy\n",
      "  bats.dropna(subset='type',inplace=True)\n",
      "/var/folders/1v/6kfsg1sj1h94v2jtztzln6rh0000gn/T/ipykernel_6546/1231845333.py:14: SettingWithCopyWarning: \n",
      "A value is trying to be set on a copy of a slice from a DataFrame\n",
      "\n",
      "See the caveats in the documentation: https://pandas.pydata.org/pandas-docs/stable/user_guide/indexing.html#returning-a-view-versus-a-copy\n",
      "  bats.dropna(subset='type',inplace=True)\n",
      "/var/folders/1v/6kfsg1sj1h94v2jtztzln6rh0000gn/T/ipykernel_6546/1231845333.py:14: SettingWithCopyWarning: \n",
      "A value is trying to be set on a copy of a slice from a DataFrame\n",
      "\n",
      "See the caveats in the documentation: https://pandas.pydata.org/pandas-docs/stable/user_guide/indexing.html#returning-a-view-versus-a-copy\n",
      "  bats.dropna(subset='type',inplace=True)\n"
     ]
    },
    {
     "name": "stdout",
     "output_type": "stream",
     "text": [
      "13025\n",
      "Gathering Player Data\n"
     ]
    },
    {
     "name": "stderr",
     "output_type": "stream",
     "text": [
      "/var/folders/1v/6kfsg1sj1h94v2jtztzln6rh0000gn/T/ipykernel_6546/1231845333.py:14: SettingWithCopyWarning: \n",
      "A value is trying to be set on a copy of a slice from a DataFrame\n",
      "\n",
      "See the caveats in the documentation: https://pandas.pydata.org/pandas-docs/stable/user_guide/indexing.html#returning-a-view-versus-a-copy\n",
      "  bats.dropna(subset='type',inplace=True)\n",
      "/var/folders/1v/6kfsg1sj1h94v2jtztzln6rh0000gn/T/ipykernel_6546/1231845333.py:14: SettingWithCopyWarning: \n",
      "A value is trying to be set on a copy of a slice from a DataFrame\n",
      "\n",
      "See the caveats in the documentation: https://pandas.pydata.org/pandas-docs/stable/user_guide/indexing.html#returning-a-view-versus-a-copy\n",
      "  bats.dropna(subset='type',inplace=True)\n",
      "/var/folders/1v/6kfsg1sj1h94v2jtztzln6rh0000gn/T/ipykernel_6546/1231845333.py:14: SettingWithCopyWarning: \n",
      "A value is trying to be set on a copy of a slice from a DataFrame\n",
      "\n",
      "See the caveats in the documentation: https://pandas.pydata.org/pandas-docs/stable/user_guide/indexing.html#returning-a-view-versus-a-copy\n",
      "  bats.dropna(subset='type',inplace=True)\n",
      "/var/folders/1v/6kfsg1sj1h94v2jtztzln6rh0000gn/T/ipykernel_6546/1231845333.py:14: SettingWithCopyWarning: \n",
      "A value is trying to be set on a copy of a slice from a DataFrame\n",
      "\n",
      "See the caveats in the documentation: https://pandas.pydata.org/pandas-docs/stable/user_guide/indexing.html#returning-a-view-versus-a-copy\n",
      "  bats.dropna(subset='type',inplace=True)\n",
      "/var/folders/1v/6kfsg1sj1h94v2jtztzln6rh0000gn/T/ipykernel_6546/1231845333.py:14: SettingWithCopyWarning: \n",
      "A value is trying to be set on a copy of a slice from a DataFrame\n",
      "\n",
      "See the caveats in the documentation: https://pandas.pydata.org/pandas-docs/stable/user_guide/indexing.html#returning-a-view-versus-a-copy\n",
      "  bats.dropna(subset='type',inplace=True)\n",
      "/var/folders/1v/6kfsg1sj1h94v2jtztzln6rh0000gn/T/ipykernel_6546/1231845333.py:14: SettingWithCopyWarning: \n",
      "A value is trying to be set on a copy of a slice from a DataFrame\n",
      "\n",
      "See the caveats in the documentation: https://pandas.pydata.org/pandas-docs/stable/user_guide/indexing.html#returning-a-view-versus-a-copy\n",
      "  bats.dropna(subset='type',inplace=True)\n"
     ]
    },
    {
     "name": "stdout",
     "output_type": "stream",
     "text": [
      "6772\n",
      "Gathering Player Data\n"
     ]
    },
    {
     "name": "stderr",
     "output_type": "stream",
     "text": [
      "/var/folders/1v/6kfsg1sj1h94v2jtztzln6rh0000gn/T/ipykernel_6546/1231845333.py:14: SettingWithCopyWarning: \n",
      "A value is trying to be set on a copy of a slice from a DataFrame\n",
      "\n",
      "See the caveats in the documentation: https://pandas.pydata.org/pandas-docs/stable/user_guide/indexing.html#returning-a-view-versus-a-copy\n",
      "  bats.dropna(subset='type',inplace=True)\n",
      "/var/folders/1v/6kfsg1sj1h94v2jtztzln6rh0000gn/T/ipykernel_6546/1231845333.py:14: SettingWithCopyWarning: \n",
      "A value is trying to be set on a copy of a slice from a DataFrame\n",
      "\n",
      "See the caveats in the documentation: https://pandas.pydata.org/pandas-docs/stable/user_guide/indexing.html#returning-a-view-versus-a-copy\n",
      "  bats.dropna(subset='type',inplace=True)\n",
      "/var/folders/1v/6kfsg1sj1h94v2jtztzln6rh0000gn/T/ipykernel_6546/1231845333.py:14: SettingWithCopyWarning: \n",
      "A value is trying to be set on a copy of a slice from a DataFrame\n",
      "\n",
      "See the caveats in the documentation: https://pandas.pydata.org/pandas-docs/stable/user_guide/indexing.html#returning-a-view-versus-a-copy\n",
      "  bats.dropna(subset='type',inplace=True)\n",
      "/var/folders/1v/6kfsg1sj1h94v2jtztzln6rh0000gn/T/ipykernel_6546/1231845333.py:14: SettingWithCopyWarning: \n",
      "A value is trying to be set on a copy of a slice from a DataFrame\n",
      "\n",
      "See the caveats in the documentation: https://pandas.pydata.org/pandas-docs/stable/user_guide/indexing.html#returning-a-view-versus-a-copy\n",
      "  bats.dropna(subset='type',inplace=True)\n",
      "/var/folders/1v/6kfsg1sj1h94v2jtztzln6rh0000gn/T/ipykernel_6546/1231845333.py:14: SettingWithCopyWarning: \n",
      "A value is trying to be set on a copy of a slice from a DataFrame\n",
      "\n",
      "See the caveats in the documentation: https://pandas.pydata.org/pandas-docs/stable/user_guide/indexing.html#returning-a-view-versus-a-copy\n",
      "  bats.dropna(subset='type',inplace=True)\n",
      "/var/folders/1v/6kfsg1sj1h94v2jtztzln6rh0000gn/T/ipykernel_6546/1231845333.py:14: SettingWithCopyWarning: \n",
      "A value is trying to be set on a copy of a slice from a DataFrame\n",
      "\n",
      "See the caveats in the documentation: https://pandas.pydata.org/pandas-docs/stable/user_guide/indexing.html#returning-a-view-versus-a-copy\n",
      "  bats.dropna(subset='type',inplace=True)\n"
     ]
    },
    {
     "name": "stdout",
     "output_type": "stream",
     "text": [
      "6959\n",
      "Gathering Player Data\n"
     ]
    },
    {
     "name": "stderr",
     "output_type": "stream",
     "text": [
      "/Users/moksh/miniforge3/lib/python3.10/site-packages/pybaseball/utils.py:295: DtypeWarning: Columns (87,88) have mixed types. Specify dtype option on import or set low_memory=False.\n",
      "  df = pd.read_csv(io.StringIO(data.text))\n",
      "/Users/moksh/miniforge3/lib/python3.10/site-packages/pybaseball/utils.py:295: DtypeWarning: Columns (0,78,87,88) have mixed types. Specify dtype option on import or set low_memory=False.\n",
      "  df = pd.read_csv(io.StringIO(data.text))\n",
      "/var/folders/1v/6kfsg1sj1h94v2jtztzln6rh0000gn/T/ipykernel_6546/1231845333.py:14: SettingWithCopyWarning: \n",
      "A value is trying to be set on a copy of a slice from a DataFrame\n",
      "\n",
      "See the caveats in the documentation: https://pandas.pydata.org/pandas-docs/stable/user_guide/indexing.html#returning-a-view-versus-a-copy\n",
      "  bats.dropna(subset='type',inplace=True)\n",
      "/var/folders/1v/6kfsg1sj1h94v2jtztzln6rh0000gn/T/ipykernel_6546/1231845333.py:14: SettingWithCopyWarning: \n",
      "A value is trying to be set on a copy of a slice from a DataFrame\n",
      "\n",
      "See the caveats in the documentation: https://pandas.pydata.org/pandas-docs/stable/user_guide/indexing.html#returning-a-view-versus-a-copy\n",
      "  bats.dropna(subset='type',inplace=True)\n",
      "/var/folders/1v/6kfsg1sj1h94v2jtztzln6rh0000gn/T/ipykernel_6546/1231845333.py:14: SettingWithCopyWarning: \n",
      "A value is trying to be set on a copy of a slice from a DataFrame\n",
      "\n",
      "See the caveats in the documentation: https://pandas.pydata.org/pandas-docs/stable/user_guide/indexing.html#returning-a-view-versus-a-copy\n",
      "  bats.dropna(subset='type',inplace=True)\n",
      "/var/folders/1v/6kfsg1sj1h94v2jtztzln6rh0000gn/T/ipykernel_6546/1231845333.py:14: SettingWithCopyWarning: \n",
      "A value is trying to be set on a copy of a slice from a DataFrame\n",
      "\n",
      "See the caveats in the documentation: https://pandas.pydata.org/pandas-docs/stable/user_guide/indexing.html#returning-a-view-versus-a-copy\n",
      "  bats.dropna(subset='type',inplace=True)\n",
      "/var/folders/1v/6kfsg1sj1h94v2jtztzln6rh0000gn/T/ipykernel_6546/1231845333.py:14: SettingWithCopyWarning: \n",
      "A value is trying to be set on a copy of a slice from a DataFrame\n",
      "\n",
      "See the caveats in the documentation: https://pandas.pydata.org/pandas-docs/stable/user_guide/indexing.html#returning-a-view-versus-a-copy\n",
      "  bats.dropna(subset='type',inplace=True)\n",
      "/var/folders/1v/6kfsg1sj1h94v2jtztzln6rh0000gn/T/ipykernel_6546/1231845333.py:14: SettingWithCopyWarning: \n",
      "A value is trying to be set on a copy of a slice from a DataFrame\n",
      "\n",
      "See the caveats in the documentation: https://pandas.pydata.org/pandas-docs/stable/user_guide/indexing.html#returning-a-view-versus-a-copy\n",
      "  bats.dropna(subset='type',inplace=True)\n"
     ]
    },
    {
     "name": "stdout",
     "output_type": "stream",
     "text": [
      "10065\n",
      "Gathering Player Data\n"
     ]
    },
    {
     "name": "stderr",
     "output_type": "stream",
     "text": [
      "/var/folders/1v/6kfsg1sj1h94v2jtztzln6rh0000gn/T/ipykernel_6546/1231845333.py:14: SettingWithCopyWarning: \n",
      "A value is trying to be set on a copy of a slice from a DataFrame\n",
      "\n",
      "See the caveats in the documentation: https://pandas.pydata.org/pandas-docs/stable/user_guide/indexing.html#returning-a-view-versus-a-copy\n",
      "  bats.dropna(subset='type',inplace=True)\n",
      "/var/folders/1v/6kfsg1sj1h94v2jtztzln6rh0000gn/T/ipykernel_6546/1231845333.py:14: SettingWithCopyWarning: \n",
      "A value is trying to be set on a copy of a slice from a DataFrame\n",
      "\n",
      "See the caveats in the documentation: https://pandas.pydata.org/pandas-docs/stable/user_guide/indexing.html#returning-a-view-versus-a-copy\n",
      "  bats.dropna(subset='type',inplace=True)\n",
      "/var/folders/1v/6kfsg1sj1h94v2jtztzln6rh0000gn/T/ipykernel_6546/1231845333.py:14: SettingWithCopyWarning: \n",
      "A value is trying to be set on a copy of a slice from a DataFrame\n",
      "\n",
      "See the caveats in the documentation: https://pandas.pydata.org/pandas-docs/stable/user_guide/indexing.html#returning-a-view-versus-a-copy\n",
      "  bats.dropna(subset='type',inplace=True)\n",
      "/var/folders/1v/6kfsg1sj1h94v2jtztzln6rh0000gn/T/ipykernel_6546/1231845333.py:14: SettingWithCopyWarning: \n",
      "A value is trying to be set on a copy of a slice from a DataFrame\n",
      "\n",
      "See the caveats in the documentation: https://pandas.pydata.org/pandas-docs/stable/user_guide/indexing.html#returning-a-view-versus-a-copy\n",
      "  bats.dropna(subset='type',inplace=True)\n",
      "/var/folders/1v/6kfsg1sj1h94v2jtztzln6rh0000gn/T/ipykernel_6546/1231845333.py:14: SettingWithCopyWarning: \n",
      "A value is trying to be set on a copy of a slice from a DataFrame\n",
      "\n",
      "See the caveats in the documentation: https://pandas.pydata.org/pandas-docs/stable/user_guide/indexing.html#returning-a-view-versus-a-copy\n",
      "  bats.dropna(subset='type',inplace=True)\n",
      "/var/folders/1v/6kfsg1sj1h94v2jtztzln6rh0000gn/T/ipykernel_6546/1231845333.py:14: SettingWithCopyWarning: \n",
      "A value is trying to be set on a copy of a slice from a DataFrame\n",
      "\n",
      "See the caveats in the documentation: https://pandas.pydata.org/pandas-docs/stable/user_guide/indexing.html#returning-a-view-versus-a-copy\n",
      "  bats.dropna(subset='type',inplace=True)\n"
     ]
    },
    {
     "name": "stdout",
     "output_type": "stream",
     "text": [
      "5015\n",
      "Gathering Player Data\n"
     ]
    },
    {
     "name": "stderr",
     "output_type": "stream",
     "text": [
      "/var/folders/1v/6kfsg1sj1h94v2jtztzln6rh0000gn/T/ipykernel_6546/1231845333.py:14: SettingWithCopyWarning: \n",
      "A value is trying to be set on a copy of a slice from a DataFrame\n",
      "\n",
      "See the caveats in the documentation: https://pandas.pydata.org/pandas-docs/stable/user_guide/indexing.html#returning-a-view-versus-a-copy\n",
      "  bats.dropna(subset='type',inplace=True)\n",
      "/var/folders/1v/6kfsg1sj1h94v2jtztzln6rh0000gn/T/ipykernel_6546/1231845333.py:14: SettingWithCopyWarning: \n",
      "A value is trying to be set on a copy of a slice from a DataFrame\n",
      "\n",
      "See the caveats in the documentation: https://pandas.pydata.org/pandas-docs/stable/user_guide/indexing.html#returning-a-view-versus-a-copy\n",
      "  bats.dropna(subset='type',inplace=True)\n",
      "/var/folders/1v/6kfsg1sj1h94v2jtztzln6rh0000gn/T/ipykernel_6546/1231845333.py:14: SettingWithCopyWarning: \n",
      "A value is trying to be set on a copy of a slice from a DataFrame\n",
      "\n",
      "See the caveats in the documentation: https://pandas.pydata.org/pandas-docs/stable/user_guide/indexing.html#returning-a-view-versus-a-copy\n",
      "  bats.dropna(subset='type',inplace=True)\n",
      "/var/folders/1v/6kfsg1sj1h94v2jtztzln6rh0000gn/T/ipykernel_6546/1231845333.py:14: SettingWithCopyWarning: \n",
      "A value is trying to be set on a copy of a slice from a DataFrame\n",
      "\n",
      "See the caveats in the documentation: https://pandas.pydata.org/pandas-docs/stable/user_guide/indexing.html#returning-a-view-versus-a-copy\n",
      "  bats.dropna(subset='type',inplace=True)\n",
      "/var/folders/1v/6kfsg1sj1h94v2jtztzln6rh0000gn/T/ipykernel_6546/1231845333.py:14: SettingWithCopyWarning: \n",
      "A value is trying to be set on a copy of a slice from a DataFrame\n",
      "\n",
      "See the caveats in the documentation: https://pandas.pydata.org/pandas-docs/stable/user_guide/indexing.html#returning-a-view-versus-a-copy\n",
      "  bats.dropna(subset='type',inplace=True)\n",
      "/var/folders/1v/6kfsg1sj1h94v2jtztzln6rh0000gn/T/ipykernel_6546/1231845333.py:14: SettingWithCopyWarning: \n",
      "A value is trying to be set on a copy of a slice from a DataFrame\n",
      "\n",
      "See the caveats in the documentation: https://pandas.pydata.org/pandas-docs/stable/user_guide/indexing.html#returning-a-view-versus-a-copy\n",
      "  bats.dropna(subset='type',inplace=True)\n"
     ]
    },
    {
     "name": "stdout",
     "output_type": "stream",
     "text": [
      "8186\n",
      "Gathering Player Data\n"
     ]
    },
    {
     "name": "stderr",
     "output_type": "stream",
     "text": [
      "/var/folders/1v/6kfsg1sj1h94v2jtztzln6rh0000gn/T/ipykernel_6546/1231845333.py:14: SettingWithCopyWarning: \n",
      "A value is trying to be set on a copy of a slice from a DataFrame\n",
      "\n",
      "See the caveats in the documentation: https://pandas.pydata.org/pandas-docs/stable/user_guide/indexing.html#returning-a-view-versus-a-copy\n",
      "  bats.dropna(subset='type',inplace=True)\n",
      "/var/folders/1v/6kfsg1sj1h94v2jtztzln6rh0000gn/T/ipykernel_6546/1231845333.py:14: SettingWithCopyWarning: \n",
      "A value is trying to be set on a copy of a slice from a DataFrame\n",
      "\n",
      "See the caveats in the documentation: https://pandas.pydata.org/pandas-docs/stable/user_guide/indexing.html#returning-a-view-versus-a-copy\n",
      "  bats.dropna(subset='type',inplace=True)\n",
      "/var/folders/1v/6kfsg1sj1h94v2jtztzln6rh0000gn/T/ipykernel_6546/1231845333.py:14: SettingWithCopyWarning: \n",
      "A value is trying to be set on a copy of a slice from a DataFrame\n",
      "\n",
      "See the caveats in the documentation: https://pandas.pydata.org/pandas-docs/stable/user_guide/indexing.html#returning-a-view-versus-a-copy\n",
      "  bats.dropna(subset='type',inplace=True)\n",
      "/var/folders/1v/6kfsg1sj1h94v2jtztzln6rh0000gn/T/ipykernel_6546/1231845333.py:14: SettingWithCopyWarning: \n",
      "A value is trying to be set on a copy of a slice from a DataFrame\n",
      "\n",
      "See the caveats in the documentation: https://pandas.pydata.org/pandas-docs/stable/user_guide/indexing.html#returning-a-view-versus-a-copy\n",
      "  bats.dropna(subset='type',inplace=True)\n",
      "/var/folders/1v/6kfsg1sj1h94v2jtztzln6rh0000gn/T/ipykernel_6546/1231845333.py:14: SettingWithCopyWarning: \n",
      "A value is trying to be set on a copy of a slice from a DataFrame\n",
      "\n",
      "See the caveats in the documentation: https://pandas.pydata.org/pandas-docs/stable/user_guide/indexing.html#returning-a-view-versus-a-copy\n",
      "  bats.dropna(subset='type',inplace=True)\n",
      "/var/folders/1v/6kfsg1sj1h94v2jtztzln6rh0000gn/T/ipykernel_6546/1231845333.py:14: SettingWithCopyWarning: \n",
      "A value is trying to be set on a copy of a slice from a DataFrame\n",
      "\n",
      "See the caveats in the documentation: https://pandas.pydata.org/pandas-docs/stable/user_guide/indexing.html#returning-a-view-versus-a-copy\n",
      "  bats.dropna(subset='type',inplace=True)\n"
     ]
    },
    {
     "name": "stdout",
     "output_type": "stream",
     "text": [
      "7057\n",
      "Gathering Player Data\n"
     ]
    },
    {
     "name": "stderr",
     "output_type": "stream",
     "text": [
      "/var/folders/1v/6kfsg1sj1h94v2jtztzln6rh0000gn/T/ipykernel_6546/1231845333.py:14: SettingWithCopyWarning: \n",
      "A value is trying to be set on a copy of a slice from a DataFrame\n",
      "\n",
      "See the caveats in the documentation: https://pandas.pydata.org/pandas-docs/stable/user_guide/indexing.html#returning-a-view-versus-a-copy\n",
      "  bats.dropna(subset='type',inplace=True)\n",
      "/var/folders/1v/6kfsg1sj1h94v2jtztzln6rh0000gn/T/ipykernel_6546/1231845333.py:14: SettingWithCopyWarning: \n",
      "A value is trying to be set on a copy of a slice from a DataFrame\n",
      "\n",
      "See the caveats in the documentation: https://pandas.pydata.org/pandas-docs/stable/user_guide/indexing.html#returning-a-view-versus-a-copy\n",
      "  bats.dropna(subset='type',inplace=True)\n",
      "/var/folders/1v/6kfsg1sj1h94v2jtztzln6rh0000gn/T/ipykernel_6546/1231845333.py:14: SettingWithCopyWarning: \n",
      "A value is trying to be set on a copy of a slice from a DataFrame\n",
      "\n",
      "See the caveats in the documentation: https://pandas.pydata.org/pandas-docs/stable/user_guide/indexing.html#returning-a-view-versus-a-copy\n",
      "  bats.dropna(subset='type',inplace=True)\n",
      "/var/folders/1v/6kfsg1sj1h94v2jtztzln6rh0000gn/T/ipykernel_6546/1231845333.py:14: SettingWithCopyWarning: \n",
      "A value is trying to be set on a copy of a slice from a DataFrame\n",
      "\n",
      "See the caveats in the documentation: https://pandas.pydata.org/pandas-docs/stable/user_guide/indexing.html#returning-a-view-versus-a-copy\n",
      "  bats.dropna(subset='type',inplace=True)\n",
      "/var/folders/1v/6kfsg1sj1h94v2jtztzln6rh0000gn/T/ipykernel_6546/1231845333.py:14: SettingWithCopyWarning: \n",
      "A value is trying to be set on a copy of a slice from a DataFrame\n",
      "\n",
      "See the caveats in the documentation: https://pandas.pydata.org/pandas-docs/stable/user_guide/indexing.html#returning-a-view-versus-a-copy\n",
      "  bats.dropna(subset='type',inplace=True)\n",
      "/var/folders/1v/6kfsg1sj1h94v2jtztzln6rh0000gn/T/ipykernel_6546/1231845333.py:14: SettingWithCopyWarning: \n",
      "A value is trying to be set on a copy of a slice from a DataFrame\n",
      "\n",
      "See the caveats in the documentation: https://pandas.pydata.org/pandas-docs/stable/user_guide/indexing.html#returning-a-view-versus-a-copy\n",
      "  bats.dropna(subset='type',inplace=True)\n"
     ]
    },
    {
     "name": "stdout",
     "output_type": "stream",
     "text": [
      "204\n",
      "Gathering Player Data\n"
     ]
    },
    {
     "name": "stderr",
     "output_type": "stream",
     "text": [
      "/Users/moksh/miniforge3/lib/python3.10/site-packages/pybaseball/utils.py:295: DtypeWarning: Columns (87,88) have mixed types. Specify dtype option on import or set low_memory=False.\n",
      "  df = pd.read_csv(io.StringIO(data.text))\n"
     ]
    },
    {
     "name": "stdout",
     "output_type": "stream",
     "text": [
      "17950\n"
     ]
    },
    {
     "name": "stderr",
     "output_type": "stream",
     "text": [
      "/var/folders/1v/6kfsg1sj1h94v2jtztzln6rh0000gn/T/ipykernel_6546/1231845333.py:14: SettingWithCopyWarning: \n",
      "A value is trying to be set on a copy of a slice from a DataFrame\n",
      "\n",
      "See the caveats in the documentation: https://pandas.pydata.org/pandas-docs/stable/user_guide/indexing.html#returning-a-view-versus-a-copy\n",
      "  bats.dropna(subset='type',inplace=True)\n",
      "/var/folders/1v/6kfsg1sj1h94v2jtztzln6rh0000gn/T/ipykernel_6546/1231845333.py:14: SettingWithCopyWarning: \n",
      "A value is trying to be set on a copy of a slice from a DataFrame\n",
      "\n",
      "See the caveats in the documentation: https://pandas.pydata.org/pandas-docs/stable/user_guide/indexing.html#returning-a-view-versus-a-copy\n",
      "  bats.dropna(subset='type',inplace=True)\n",
      "/var/folders/1v/6kfsg1sj1h94v2jtztzln6rh0000gn/T/ipykernel_6546/1231845333.py:14: SettingWithCopyWarning: \n",
      "A value is trying to be set on a copy of a slice from a DataFrame\n",
      "\n",
      "See the caveats in the documentation: https://pandas.pydata.org/pandas-docs/stable/user_guide/indexing.html#returning-a-view-versus-a-copy\n",
      "  bats.dropna(subset='type',inplace=True)\n",
      "/var/folders/1v/6kfsg1sj1h94v2jtztzln6rh0000gn/T/ipykernel_6546/1231845333.py:14: SettingWithCopyWarning: \n",
      "A value is trying to be set on a copy of a slice from a DataFrame\n",
      "\n",
      "See the caveats in the documentation: https://pandas.pydata.org/pandas-docs/stable/user_guide/indexing.html#returning-a-view-versus-a-copy\n",
      "  bats.dropna(subset='type',inplace=True)\n",
      "/var/folders/1v/6kfsg1sj1h94v2jtztzln6rh0000gn/T/ipykernel_6546/1231845333.py:14: SettingWithCopyWarning: \n",
      "A value is trying to be set on a copy of a slice from a DataFrame\n",
      "\n",
      "See the caveats in the documentation: https://pandas.pydata.org/pandas-docs/stable/user_guide/indexing.html#returning-a-view-versus-a-copy\n",
      "  bats.dropna(subset='type',inplace=True)\n",
      "/var/folders/1v/6kfsg1sj1h94v2jtztzln6rh0000gn/T/ipykernel_6546/1231845333.py:14: SettingWithCopyWarning: \n",
      "A value is trying to be set on a copy of a slice from a DataFrame\n",
      "\n",
      "See the caveats in the documentation: https://pandas.pydata.org/pandas-docs/stable/user_guide/indexing.html#returning-a-view-versus-a-copy\n",
      "  bats.dropna(subset='type',inplace=True)\n"
     ]
    },
    {
     "data": {
      "application/vnd.jupyter.widget-view+json": {
       "model_id": "67a306fdcb1845ec82617668980e9a15",
       "version_major": 2,
       "version_minor": 0
      },
      "text/plain": [
       "  0%|          | 0/20 [00:00<?, ?it/s]"
      ]
     },
     "metadata": {},
     "output_type": "display_data"
    },
    {
     "name": "stdout",
     "output_type": "stream",
     "text": [
      "Gathering Player Data\n"
     ]
    },
    {
     "name": "stderr",
     "output_type": "stream",
     "text": [
      "/var/folders/1v/6kfsg1sj1h94v2jtztzln6rh0000gn/T/ipykernel_6546/1231845333.py:14: SettingWithCopyWarning: \n",
      "A value is trying to be set on a copy of a slice from a DataFrame\n",
      "\n",
      "See the caveats in the documentation: https://pandas.pydata.org/pandas-docs/stable/user_guide/indexing.html#returning-a-view-versus-a-copy\n",
      "  bats.dropna(subset='type',inplace=True)\n",
      "/var/folders/1v/6kfsg1sj1h94v2jtztzln6rh0000gn/T/ipykernel_6546/1231845333.py:14: SettingWithCopyWarning: \n",
      "A value is trying to be set on a copy of a slice from a DataFrame\n",
      "\n",
      "See the caveats in the documentation: https://pandas.pydata.org/pandas-docs/stable/user_guide/indexing.html#returning-a-view-versus-a-copy\n",
      "  bats.dropna(subset='type',inplace=True)\n",
      "/var/folders/1v/6kfsg1sj1h94v2jtztzln6rh0000gn/T/ipykernel_6546/1231845333.py:14: SettingWithCopyWarning: \n",
      "A value is trying to be set on a copy of a slice from a DataFrame\n",
      "\n",
      "See the caveats in the documentation: https://pandas.pydata.org/pandas-docs/stable/user_guide/indexing.html#returning-a-view-versus-a-copy\n",
      "  bats.dropna(subset='type',inplace=True)\n"
     ]
    },
    {
     "name": "stdout",
     "output_type": "stream",
     "text": [
      "579\n",
      "Gathering Player Data\n"
     ]
    },
    {
     "name": "stderr",
     "output_type": "stream",
     "text": [
      "/var/folders/1v/6kfsg1sj1h94v2jtztzln6rh0000gn/T/ipykernel_6546/1231845333.py:14: SettingWithCopyWarning: \n",
      "A value is trying to be set on a copy of a slice from a DataFrame\n",
      "\n",
      "See the caveats in the documentation: https://pandas.pydata.org/pandas-docs/stable/user_guide/indexing.html#returning-a-view-versus-a-copy\n",
      "  bats.dropna(subset='type',inplace=True)\n",
      "/var/folders/1v/6kfsg1sj1h94v2jtztzln6rh0000gn/T/ipykernel_6546/1231845333.py:14: SettingWithCopyWarning: \n",
      "A value is trying to be set on a copy of a slice from a DataFrame\n",
      "\n",
      "See the caveats in the documentation: https://pandas.pydata.org/pandas-docs/stable/user_guide/indexing.html#returning-a-view-versus-a-copy\n",
      "  bats.dropna(subset='type',inplace=True)\n",
      "/var/folders/1v/6kfsg1sj1h94v2jtztzln6rh0000gn/T/ipykernel_6546/1231845333.py:14: SettingWithCopyWarning: \n",
      "A value is trying to be set on a copy of a slice from a DataFrame\n",
      "\n",
      "See the caveats in the documentation: https://pandas.pydata.org/pandas-docs/stable/user_guide/indexing.html#returning-a-view-versus-a-copy\n",
      "  bats.dropna(subset='type',inplace=True)\n"
     ]
    },
    {
     "name": "stdout",
     "output_type": "stream",
     "text": [
      "146\n",
      "Gathering Player Data\n"
     ]
    },
    {
     "name": "stderr",
     "output_type": "stream",
     "text": [
      "/var/folders/1v/6kfsg1sj1h94v2jtztzln6rh0000gn/T/ipykernel_6546/1231845333.py:14: SettingWithCopyWarning: \n",
      "A value is trying to be set on a copy of a slice from a DataFrame\n",
      "\n",
      "See the caveats in the documentation: https://pandas.pydata.org/pandas-docs/stable/user_guide/indexing.html#returning-a-view-versus-a-copy\n",
      "  bats.dropna(subset='type',inplace=True)\n",
      "/var/folders/1v/6kfsg1sj1h94v2jtztzln6rh0000gn/T/ipykernel_6546/1231845333.py:14: SettingWithCopyWarning: \n",
      "A value is trying to be set on a copy of a slice from a DataFrame\n",
      "\n",
      "See the caveats in the documentation: https://pandas.pydata.org/pandas-docs/stable/user_guide/indexing.html#returning-a-view-versus-a-copy\n",
      "  bats.dropna(subset='type',inplace=True)\n",
      "/var/folders/1v/6kfsg1sj1h94v2jtztzln6rh0000gn/T/ipykernel_6546/1231845333.py:14: SettingWithCopyWarning: \n",
      "A value is trying to be set on a copy of a slice from a DataFrame\n",
      "\n",
      "See the caveats in the documentation: https://pandas.pydata.org/pandas-docs/stable/user_guide/indexing.html#returning-a-view-versus-a-copy\n",
      "  bats.dropna(subset='type',inplace=True)\n"
     ]
    },
    {
     "name": "stdout",
     "output_type": "stream",
     "text": [
      "572\n",
      "Gathering Player Data\n"
     ]
    },
    {
     "name": "stderr",
     "output_type": "stream",
     "text": [
      "/var/folders/1v/6kfsg1sj1h94v2jtztzln6rh0000gn/T/ipykernel_6546/1231845333.py:14: SettingWithCopyWarning: \n",
      "A value is trying to be set on a copy of a slice from a DataFrame\n",
      "\n",
      "See the caveats in the documentation: https://pandas.pydata.org/pandas-docs/stable/user_guide/indexing.html#returning-a-view-versus-a-copy\n",
      "  bats.dropna(subset='type',inplace=True)\n",
      "/var/folders/1v/6kfsg1sj1h94v2jtztzln6rh0000gn/T/ipykernel_6546/1231845333.py:14: SettingWithCopyWarning: \n",
      "A value is trying to be set on a copy of a slice from a DataFrame\n",
      "\n",
      "See the caveats in the documentation: https://pandas.pydata.org/pandas-docs/stable/user_guide/indexing.html#returning-a-view-versus-a-copy\n",
      "  bats.dropna(subset='type',inplace=True)\n",
      "/var/folders/1v/6kfsg1sj1h94v2jtztzln6rh0000gn/T/ipykernel_6546/1231845333.py:14: SettingWithCopyWarning: \n",
      "A value is trying to be set on a copy of a slice from a DataFrame\n",
      "\n",
      "See the caveats in the documentation: https://pandas.pydata.org/pandas-docs/stable/user_guide/indexing.html#returning-a-view-versus-a-copy\n",
      "  bats.dropna(subset='type',inplace=True)\n"
     ]
    },
    {
     "name": "stdout",
     "output_type": "stream",
     "text": [
      "787\n",
      "Gathering Player Data\n"
     ]
    },
    {
     "name": "stderr",
     "output_type": "stream",
     "text": [
      "/var/folders/1v/6kfsg1sj1h94v2jtztzln6rh0000gn/T/ipykernel_6546/1231845333.py:14: SettingWithCopyWarning: \n",
      "A value is trying to be set on a copy of a slice from a DataFrame\n",
      "\n",
      "See the caveats in the documentation: https://pandas.pydata.org/pandas-docs/stable/user_guide/indexing.html#returning-a-view-versus-a-copy\n",
      "  bats.dropna(subset='type',inplace=True)\n",
      "/var/folders/1v/6kfsg1sj1h94v2jtztzln6rh0000gn/T/ipykernel_6546/1231845333.py:14: SettingWithCopyWarning: \n",
      "A value is trying to be set on a copy of a slice from a DataFrame\n",
      "\n",
      "See the caveats in the documentation: https://pandas.pydata.org/pandas-docs/stable/user_guide/indexing.html#returning-a-view-versus-a-copy\n",
      "  bats.dropna(subset='type',inplace=True)\n",
      "/var/folders/1v/6kfsg1sj1h94v2jtztzln6rh0000gn/T/ipykernel_6546/1231845333.py:14: SettingWithCopyWarning: \n",
      "A value is trying to be set on a copy of a slice from a DataFrame\n",
      "\n",
      "See the caveats in the documentation: https://pandas.pydata.org/pandas-docs/stable/user_guide/indexing.html#returning-a-view-versus-a-copy\n",
      "  bats.dropna(subset='type',inplace=True)\n"
     ]
    },
    {
     "name": "stdout",
     "output_type": "stream",
     "text": [
      "169\n",
      "Gathering Player Data\n"
     ]
    },
    {
     "name": "stderr",
     "output_type": "stream",
     "text": [
      "/var/folders/1v/6kfsg1sj1h94v2jtztzln6rh0000gn/T/ipykernel_6546/1231845333.py:14: SettingWithCopyWarning: \n",
      "A value is trying to be set on a copy of a slice from a DataFrame\n",
      "\n",
      "See the caveats in the documentation: https://pandas.pydata.org/pandas-docs/stable/user_guide/indexing.html#returning-a-view-versus-a-copy\n",
      "  bats.dropna(subset='type',inplace=True)\n",
      "/var/folders/1v/6kfsg1sj1h94v2jtztzln6rh0000gn/T/ipykernel_6546/1231845333.py:14: SettingWithCopyWarning: \n",
      "A value is trying to be set on a copy of a slice from a DataFrame\n",
      "\n",
      "See the caveats in the documentation: https://pandas.pydata.org/pandas-docs/stable/user_guide/indexing.html#returning-a-view-versus-a-copy\n",
      "  bats.dropna(subset='type',inplace=True)\n",
      "/var/folders/1v/6kfsg1sj1h94v2jtztzln6rh0000gn/T/ipykernel_6546/1231845333.py:14: SettingWithCopyWarning: \n",
      "A value is trying to be set on a copy of a slice from a DataFrame\n",
      "\n",
      "See the caveats in the documentation: https://pandas.pydata.org/pandas-docs/stable/user_guide/indexing.html#returning-a-view-versus-a-copy\n",
      "  bats.dropna(subset='type',inplace=True)\n"
     ]
    },
    {
     "name": "stdout",
     "output_type": "stream",
     "text": [
      "920\n",
      "Gathering Player Data\n"
     ]
    },
    {
     "name": "stderr",
     "output_type": "stream",
     "text": [
      "/var/folders/1v/6kfsg1sj1h94v2jtztzln6rh0000gn/T/ipykernel_6546/1231845333.py:14: SettingWithCopyWarning: \n",
      "A value is trying to be set on a copy of a slice from a DataFrame\n",
      "\n",
      "See the caveats in the documentation: https://pandas.pydata.org/pandas-docs/stable/user_guide/indexing.html#returning-a-view-versus-a-copy\n",
      "  bats.dropna(subset='type',inplace=True)\n",
      "/var/folders/1v/6kfsg1sj1h94v2jtztzln6rh0000gn/T/ipykernel_6546/1231845333.py:14: SettingWithCopyWarning: \n",
      "A value is trying to be set on a copy of a slice from a DataFrame\n",
      "\n",
      "See the caveats in the documentation: https://pandas.pydata.org/pandas-docs/stable/user_guide/indexing.html#returning-a-view-versus-a-copy\n",
      "  bats.dropna(subset='type',inplace=True)\n",
      "/var/folders/1v/6kfsg1sj1h94v2jtztzln6rh0000gn/T/ipykernel_6546/1231845333.py:14: SettingWithCopyWarning: \n",
      "A value is trying to be set on a copy of a slice from a DataFrame\n",
      "\n",
      "See the caveats in the documentation: https://pandas.pydata.org/pandas-docs/stable/user_guide/indexing.html#returning-a-view-versus-a-copy\n",
      "  bats.dropna(subset='type',inplace=True)\n"
     ]
    },
    {
     "name": "stdout",
     "output_type": "stream",
     "text": [
      "237\n",
      "Gathering Player Data\n"
     ]
    },
    {
     "name": "stderr",
     "output_type": "stream",
     "text": [
      "/var/folders/1v/6kfsg1sj1h94v2jtztzln6rh0000gn/T/ipykernel_6546/1231845333.py:14: SettingWithCopyWarning: \n",
      "A value is trying to be set on a copy of a slice from a DataFrame\n",
      "\n",
      "See the caveats in the documentation: https://pandas.pydata.org/pandas-docs/stable/user_guide/indexing.html#returning-a-view-versus-a-copy\n",
      "  bats.dropna(subset='type',inplace=True)\n",
      "/var/folders/1v/6kfsg1sj1h94v2jtztzln6rh0000gn/T/ipykernel_6546/1231845333.py:14: SettingWithCopyWarning: \n",
      "A value is trying to be set on a copy of a slice from a DataFrame\n",
      "\n",
      "See the caveats in the documentation: https://pandas.pydata.org/pandas-docs/stable/user_guide/indexing.html#returning-a-view-versus-a-copy\n",
      "  bats.dropna(subset='type',inplace=True)\n",
      "/var/folders/1v/6kfsg1sj1h94v2jtztzln6rh0000gn/T/ipykernel_6546/1231845333.py:14: SettingWithCopyWarning: \n",
      "A value is trying to be set on a copy of a slice from a DataFrame\n",
      "\n",
      "See the caveats in the documentation: https://pandas.pydata.org/pandas-docs/stable/user_guide/indexing.html#returning-a-view-versus-a-copy\n",
      "  bats.dropna(subset='type',inplace=True)\n"
     ]
    },
    {
     "name": "stdout",
     "output_type": "stream",
     "text": [
      "1098\n",
      "Gathering Player Data\n"
     ]
    },
    {
     "name": "stderr",
     "output_type": "stream",
     "text": [
      "/var/folders/1v/6kfsg1sj1h94v2jtztzln6rh0000gn/T/ipykernel_6546/1231845333.py:14: SettingWithCopyWarning: \n",
      "A value is trying to be set on a copy of a slice from a DataFrame\n",
      "\n",
      "See the caveats in the documentation: https://pandas.pydata.org/pandas-docs/stable/user_guide/indexing.html#returning-a-view-versus-a-copy\n",
      "  bats.dropna(subset='type',inplace=True)\n",
      "/var/folders/1v/6kfsg1sj1h94v2jtztzln6rh0000gn/T/ipykernel_6546/1231845333.py:14: SettingWithCopyWarning: \n",
      "A value is trying to be set on a copy of a slice from a DataFrame\n",
      "\n",
      "See the caveats in the documentation: https://pandas.pydata.org/pandas-docs/stable/user_guide/indexing.html#returning-a-view-versus-a-copy\n",
      "  bats.dropna(subset='type',inplace=True)\n",
      "/var/folders/1v/6kfsg1sj1h94v2jtztzln6rh0000gn/T/ipykernel_6546/1231845333.py:14: SettingWithCopyWarning: \n",
      "A value is trying to be set on a copy of a slice from a DataFrame\n",
      "\n",
      "See the caveats in the documentation: https://pandas.pydata.org/pandas-docs/stable/user_guide/indexing.html#returning-a-view-versus-a-copy\n",
      "  bats.dropna(subset='type',inplace=True)\n"
     ]
    },
    {
     "name": "stdout",
     "output_type": "stream",
     "text": [
      "1576\n",
      "Gathering Player Data\n"
     ]
    },
    {
     "name": "stderr",
     "output_type": "stream",
     "text": [
      "/var/folders/1v/6kfsg1sj1h94v2jtztzln6rh0000gn/T/ipykernel_6546/1231845333.py:14: SettingWithCopyWarning: \n",
      "A value is trying to be set on a copy of a slice from a DataFrame\n",
      "\n",
      "See the caveats in the documentation: https://pandas.pydata.org/pandas-docs/stable/user_guide/indexing.html#returning-a-view-versus-a-copy\n",
      "  bats.dropna(subset='type',inplace=True)\n",
      "/var/folders/1v/6kfsg1sj1h94v2jtztzln6rh0000gn/T/ipykernel_6546/1231845333.py:14: SettingWithCopyWarning: \n",
      "A value is trying to be set on a copy of a slice from a DataFrame\n",
      "\n",
      "See the caveats in the documentation: https://pandas.pydata.org/pandas-docs/stable/user_guide/indexing.html#returning-a-view-versus-a-copy\n",
      "  bats.dropna(subset='type',inplace=True)\n",
      "/var/folders/1v/6kfsg1sj1h94v2jtztzln6rh0000gn/T/ipykernel_6546/1231845333.py:14: SettingWithCopyWarning: \n",
      "A value is trying to be set on a copy of a slice from a DataFrame\n",
      "\n",
      "See the caveats in the documentation: https://pandas.pydata.org/pandas-docs/stable/user_guide/indexing.html#returning-a-view-versus-a-copy\n",
      "  bats.dropna(subset='type',inplace=True)\n"
     ]
    },
    {
     "name": "stdout",
     "output_type": "stream",
     "text": [
      "787\n",
      "Gathering Player Data\n"
     ]
    },
    {
     "name": "stderr",
     "output_type": "stream",
     "text": [
      "/var/folders/1v/6kfsg1sj1h94v2jtztzln6rh0000gn/T/ipykernel_6546/1231845333.py:14: SettingWithCopyWarning: \n",
      "A value is trying to be set on a copy of a slice from a DataFrame\n",
      "\n",
      "See the caveats in the documentation: https://pandas.pydata.org/pandas-docs/stable/user_guide/indexing.html#returning-a-view-versus-a-copy\n",
      "  bats.dropna(subset='type',inplace=True)\n",
      "/var/folders/1v/6kfsg1sj1h94v2jtztzln6rh0000gn/T/ipykernel_6546/1231845333.py:14: SettingWithCopyWarning: \n",
      "A value is trying to be set on a copy of a slice from a DataFrame\n",
      "\n",
      "See the caveats in the documentation: https://pandas.pydata.org/pandas-docs/stable/user_guide/indexing.html#returning-a-view-versus-a-copy\n",
      "  bats.dropna(subset='type',inplace=True)\n",
      "/var/folders/1v/6kfsg1sj1h94v2jtztzln6rh0000gn/T/ipykernel_6546/1231845333.py:14: SettingWithCopyWarning: \n",
      "A value is trying to be set on a copy of a slice from a DataFrame\n",
      "\n",
      "See the caveats in the documentation: https://pandas.pydata.org/pandas-docs/stable/user_guide/indexing.html#returning-a-view-versus-a-copy\n",
      "  bats.dropna(subset='type',inplace=True)\n"
     ]
    },
    {
     "name": "stdout",
     "output_type": "stream",
     "text": [
      "864\n",
      "Gathering Player Data\n"
     ]
    },
    {
     "name": "stderr",
     "output_type": "stream",
     "text": [
      "/Users/moksh/miniforge3/lib/python3.10/site-packages/pybaseball/utils.py:295: DtypeWarning: Columns (87,88) have mixed types. Specify dtype option on import or set low_memory=False.\n",
      "  df = pd.read_csv(io.StringIO(data.text))\n",
      "/var/folders/1v/6kfsg1sj1h94v2jtztzln6rh0000gn/T/ipykernel_6546/1231845333.py:14: SettingWithCopyWarning: \n",
      "A value is trying to be set on a copy of a slice from a DataFrame\n",
      "\n",
      "See the caveats in the documentation: https://pandas.pydata.org/pandas-docs/stable/user_guide/indexing.html#returning-a-view-versus-a-copy\n",
      "  bats.dropna(subset='type',inplace=True)\n",
      "/var/folders/1v/6kfsg1sj1h94v2jtztzln6rh0000gn/T/ipykernel_6546/1231845333.py:14: SettingWithCopyWarning: \n",
      "A value is trying to be set on a copy of a slice from a DataFrame\n",
      "\n",
      "See the caveats in the documentation: https://pandas.pydata.org/pandas-docs/stable/user_guide/indexing.html#returning-a-view-versus-a-copy\n",
      "  bats.dropna(subset='type',inplace=True)\n",
      "/var/folders/1v/6kfsg1sj1h94v2jtztzln6rh0000gn/T/ipykernel_6546/1231845333.py:14: SettingWithCopyWarning: \n",
      "A value is trying to be set on a copy of a slice from a DataFrame\n",
      "\n",
      "See the caveats in the documentation: https://pandas.pydata.org/pandas-docs/stable/user_guide/indexing.html#returning-a-view-versus-a-copy\n",
      "  bats.dropna(subset='type',inplace=True)\n"
     ]
    },
    {
     "name": "stdout",
     "output_type": "stream",
     "text": [
      "3173\n",
      "Gathering Player Data\n"
     ]
    },
    {
     "name": "stderr",
     "output_type": "stream",
     "text": [
      "/var/folders/1v/6kfsg1sj1h94v2jtztzln6rh0000gn/T/ipykernel_6546/1231845333.py:14: SettingWithCopyWarning: \n",
      "A value is trying to be set on a copy of a slice from a DataFrame\n",
      "\n",
      "See the caveats in the documentation: https://pandas.pydata.org/pandas-docs/stable/user_guide/indexing.html#returning-a-view-versus-a-copy\n",
      "  bats.dropna(subset='type',inplace=True)\n",
      "/var/folders/1v/6kfsg1sj1h94v2jtztzln6rh0000gn/T/ipykernel_6546/1231845333.py:14: SettingWithCopyWarning: \n",
      "A value is trying to be set on a copy of a slice from a DataFrame\n",
      "\n",
      "See the caveats in the documentation: https://pandas.pydata.org/pandas-docs/stable/user_guide/indexing.html#returning-a-view-versus-a-copy\n",
      "  bats.dropna(subset='type',inplace=True)\n",
      "/var/folders/1v/6kfsg1sj1h94v2jtztzln6rh0000gn/T/ipykernel_6546/1231845333.py:14: SettingWithCopyWarning: \n",
      "A value is trying to be set on a copy of a slice from a DataFrame\n",
      "\n",
      "See the caveats in the documentation: https://pandas.pydata.org/pandas-docs/stable/user_guide/indexing.html#returning-a-view-versus-a-copy\n",
      "  bats.dropna(subset='type',inplace=True)\n"
     ]
    },
    {
     "name": "stdout",
     "output_type": "stream",
     "text": [
      "1841\n",
      "Gathering Player Data\n"
     ]
    },
    {
     "name": "stderr",
     "output_type": "stream",
     "text": [
      "/var/folders/1v/6kfsg1sj1h94v2jtztzln6rh0000gn/T/ipykernel_6546/1231845333.py:14: SettingWithCopyWarning: \n",
      "A value is trying to be set on a copy of a slice from a DataFrame\n",
      "\n",
      "See the caveats in the documentation: https://pandas.pydata.org/pandas-docs/stable/user_guide/indexing.html#returning-a-view-versus-a-copy\n",
      "  bats.dropna(subset='type',inplace=True)\n",
      "/var/folders/1v/6kfsg1sj1h94v2jtztzln6rh0000gn/T/ipykernel_6546/1231845333.py:14: SettingWithCopyWarning: \n",
      "A value is trying to be set on a copy of a slice from a DataFrame\n",
      "\n",
      "See the caveats in the documentation: https://pandas.pydata.org/pandas-docs/stable/user_guide/indexing.html#returning-a-view-versus-a-copy\n",
      "  bats.dropna(subset='type',inplace=True)\n",
      "/var/folders/1v/6kfsg1sj1h94v2jtztzln6rh0000gn/T/ipykernel_6546/1231845333.py:14: SettingWithCopyWarning: \n",
      "A value is trying to be set on a copy of a slice from a DataFrame\n",
      "\n",
      "See the caveats in the documentation: https://pandas.pydata.org/pandas-docs/stable/user_guide/indexing.html#returning-a-view-versus-a-copy\n",
      "  bats.dropna(subset='type',inplace=True)\n"
     ]
    },
    {
     "name": "stdout",
     "output_type": "stream",
     "text": [
      "1556\n",
      "Gathering Player Data\n"
     ]
    },
    {
     "name": "stderr",
     "output_type": "stream",
     "text": [
      "/Users/moksh/miniforge3/lib/python3.10/site-packages/pybaseball/utils.py:295: DtypeWarning: Columns (87,88) have mixed types. Specify dtype option on import or set low_memory=False.\n",
      "  df = pd.read_csv(io.StringIO(data.text))\n",
      "/Users/moksh/miniforge3/lib/python3.10/site-packages/pybaseball/utils.py:295: DtypeWarning: Columns (0,78,87,88) have mixed types. Specify dtype option on import or set low_memory=False.\n",
      "  df = pd.read_csv(io.StringIO(data.text))\n",
      "/var/folders/1v/6kfsg1sj1h94v2jtztzln6rh0000gn/T/ipykernel_6546/1231845333.py:14: SettingWithCopyWarning: \n",
      "A value is trying to be set on a copy of a slice from a DataFrame\n",
      "\n",
      "See the caveats in the documentation: https://pandas.pydata.org/pandas-docs/stable/user_guide/indexing.html#returning-a-view-versus-a-copy\n",
      "  bats.dropna(subset='type',inplace=True)\n",
      "/var/folders/1v/6kfsg1sj1h94v2jtztzln6rh0000gn/T/ipykernel_6546/1231845333.py:14: SettingWithCopyWarning: \n",
      "A value is trying to be set on a copy of a slice from a DataFrame\n",
      "\n",
      "See the caveats in the documentation: https://pandas.pydata.org/pandas-docs/stable/user_guide/indexing.html#returning-a-view-versus-a-copy\n",
      "  bats.dropna(subset='type',inplace=True)\n",
      "/var/folders/1v/6kfsg1sj1h94v2jtztzln6rh0000gn/T/ipykernel_6546/1231845333.py:14: SettingWithCopyWarning: \n",
      "A value is trying to be set on a copy of a slice from a DataFrame\n",
      "\n",
      "See the caveats in the documentation: https://pandas.pydata.org/pandas-docs/stable/user_guide/indexing.html#returning-a-view-versus-a-copy\n",
      "  bats.dropna(subset='type',inplace=True)\n"
     ]
    },
    {
     "name": "stdout",
     "output_type": "stream",
     "text": [
      "2415\n",
      "Gathering Player Data\n"
     ]
    },
    {
     "name": "stderr",
     "output_type": "stream",
     "text": [
      "/var/folders/1v/6kfsg1sj1h94v2jtztzln6rh0000gn/T/ipykernel_6546/1231845333.py:14: SettingWithCopyWarning: \n",
      "A value is trying to be set on a copy of a slice from a DataFrame\n",
      "\n",
      "See the caveats in the documentation: https://pandas.pydata.org/pandas-docs/stable/user_guide/indexing.html#returning-a-view-versus-a-copy\n",
      "  bats.dropna(subset='type',inplace=True)\n",
      "/var/folders/1v/6kfsg1sj1h94v2jtztzln6rh0000gn/T/ipykernel_6546/1231845333.py:14: SettingWithCopyWarning: \n",
      "A value is trying to be set on a copy of a slice from a DataFrame\n",
      "\n",
      "See the caveats in the documentation: https://pandas.pydata.org/pandas-docs/stable/user_guide/indexing.html#returning-a-view-versus-a-copy\n",
      "  bats.dropna(subset='type',inplace=True)\n",
      "/var/folders/1v/6kfsg1sj1h94v2jtztzln6rh0000gn/T/ipykernel_6546/1231845333.py:14: SettingWithCopyWarning: \n",
      "A value is trying to be set on a copy of a slice from a DataFrame\n",
      "\n",
      "See the caveats in the documentation: https://pandas.pydata.org/pandas-docs/stable/user_guide/indexing.html#returning-a-view-versus-a-copy\n",
      "  bats.dropna(subset='type',inplace=True)\n"
     ]
    },
    {
     "name": "stdout",
     "output_type": "stream",
     "text": [
      "1235\n",
      "Gathering Player Data\n"
     ]
    },
    {
     "name": "stderr",
     "output_type": "stream",
     "text": [
      "/var/folders/1v/6kfsg1sj1h94v2jtztzln6rh0000gn/T/ipykernel_6546/1231845333.py:14: SettingWithCopyWarning: \n",
      "A value is trying to be set on a copy of a slice from a DataFrame\n",
      "\n",
      "See the caveats in the documentation: https://pandas.pydata.org/pandas-docs/stable/user_guide/indexing.html#returning-a-view-versus-a-copy\n",
      "  bats.dropna(subset='type',inplace=True)\n",
      "/var/folders/1v/6kfsg1sj1h94v2jtztzln6rh0000gn/T/ipykernel_6546/1231845333.py:14: SettingWithCopyWarning: \n",
      "A value is trying to be set on a copy of a slice from a DataFrame\n",
      "\n",
      "See the caveats in the documentation: https://pandas.pydata.org/pandas-docs/stable/user_guide/indexing.html#returning-a-view-versus-a-copy\n",
      "  bats.dropna(subset='type',inplace=True)\n",
      "/var/folders/1v/6kfsg1sj1h94v2jtztzln6rh0000gn/T/ipykernel_6546/1231845333.py:14: SettingWithCopyWarning: \n",
      "A value is trying to be set on a copy of a slice from a DataFrame\n",
      "\n",
      "See the caveats in the documentation: https://pandas.pydata.org/pandas-docs/stable/user_guide/indexing.html#returning-a-view-versus-a-copy\n",
      "  bats.dropna(subset='type',inplace=True)\n"
     ]
    },
    {
     "name": "stdout",
     "output_type": "stream",
     "text": [
      "2656\n",
      "Gathering Player Data\n"
     ]
    },
    {
     "name": "stderr",
     "output_type": "stream",
     "text": [
      "/var/folders/1v/6kfsg1sj1h94v2jtztzln6rh0000gn/T/ipykernel_6546/1231845333.py:14: SettingWithCopyWarning: \n",
      "A value is trying to be set on a copy of a slice from a DataFrame\n",
      "\n",
      "See the caveats in the documentation: https://pandas.pydata.org/pandas-docs/stable/user_guide/indexing.html#returning-a-view-versus-a-copy\n",
      "  bats.dropna(subset='type',inplace=True)\n",
      "/var/folders/1v/6kfsg1sj1h94v2jtztzln6rh0000gn/T/ipykernel_6546/1231845333.py:14: SettingWithCopyWarning: \n",
      "A value is trying to be set on a copy of a slice from a DataFrame\n",
      "\n",
      "See the caveats in the documentation: https://pandas.pydata.org/pandas-docs/stable/user_guide/indexing.html#returning-a-view-versus-a-copy\n",
      "  bats.dropna(subset='type',inplace=True)\n",
      "/var/folders/1v/6kfsg1sj1h94v2jtztzln6rh0000gn/T/ipykernel_6546/1231845333.py:14: SettingWithCopyWarning: \n",
      "A value is trying to be set on a copy of a slice from a DataFrame\n",
      "\n",
      "See the caveats in the documentation: https://pandas.pydata.org/pandas-docs/stable/user_guide/indexing.html#returning-a-view-versus-a-copy\n",
      "  bats.dropna(subset='type',inplace=True)\n"
     ]
    },
    {
     "name": "stdout",
     "output_type": "stream",
     "text": [
      "1529\n",
      "Gathering Player Data\n"
     ]
    },
    {
     "name": "stderr",
     "output_type": "stream",
     "text": [
      "/var/folders/1v/6kfsg1sj1h94v2jtztzln6rh0000gn/T/ipykernel_6546/1231845333.py:14: SettingWithCopyWarning: \n",
      "A value is trying to be set on a copy of a slice from a DataFrame\n",
      "\n",
      "See the caveats in the documentation: https://pandas.pydata.org/pandas-docs/stable/user_guide/indexing.html#returning-a-view-versus-a-copy\n",
      "  bats.dropna(subset='type',inplace=True)\n",
      "/var/folders/1v/6kfsg1sj1h94v2jtztzln6rh0000gn/T/ipykernel_6546/1231845333.py:14: SettingWithCopyWarning: \n",
      "A value is trying to be set on a copy of a slice from a DataFrame\n",
      "\n",
      "See the caveats in the documentation: https://pandas.pydata.org/pandas-docs/stable/user_guide/indexing.html#returning-a-view-versus-a-copy\n",
      "  bats.dropna(subset='type',inplace=True)\n",
      "/var/folders/1v/6kfsg1sj1h94v2jtztzln6rh0000gn/T/ipykernel_6546/1231845333.py:14: SettingWithCopyWarning: \n",
      "A value is trying to be set on a copy of a slice from a DataFrame\n",
      "\n",
      "See the caveats in the documentation: https://pandas.pydata.org/pandas-docs/stable/user_guide/indexing.html#returning-a-view-versus-a-copy\n",
      "  bats.dropna(subset='type',inplace=True)\n"
     ]
    },
    {
     "name": "stdout",
     "output_type": "stream",
     "text": [
      "51\n",
      "Gathering Player Data\n"
     ]
    },
    {
     "name": "stderr",
     "output_type": "stream",
     "text": [
      "/Users/moksh/miniforge3/lib/python3.10/site-packages/pybaseball/utils.py:295: DtypeWarning: Columns (87,88) have mixed types. Specify dtype option on import or set low_memory=False.\n",
      "  df = pd.read_csv(io.StringIO(data.text))\n"
     ]
    },
    {
     "name": "stdout",
     "output_type": "stream",
     "text": [
      "4060\n"
     ]
    },
    {
     "name": "stderr",
     "output_type": "stream",
     "text": [
      "/var/folders/1v/6kfsg1sj1h94v2jtztzln6rh0000gn/T/ipykernel_6546/1231845333.py:14: SettingWithCopyWarning: \n",
      "A value is trying to be set on a copy of a slice from a DataFrame\n",
      "\n",
      "See the caveats in the documentation: https://pandas.pydata.org/pandas-docs/stable/user_guide/indexing.html#returning-a-view-versus-a-copy\n",
      "  bats.dropna(subset='type',inplace=True)\n",
      "/var/folders/1v/6kfsg1sj1h94v2jtztzln6rh0000gn/T/ipykernel_6546/1231845333.py:14: SettingWithCopyWarning: \n",
      "A value is trying to be set on a copy of a slice from a DataFrame\n",
      "\n",
      "See the caveats in the documentation: https://pandas.pydata.org/pandas-docs/stable/user_guide/indexing.html#returning-a-view-versus-a-copy\n",
      "  bats.dropna(subset='type',inplace=True)\n",
      "/var/folders/1v/6kfsg1sj1h94v2jtztzln6rh0000gn/T/ipykernel_6546/1231845333.py:14: SettingWithCopyWarning: \n",
      "A value is trying to be set on a copy of a slice from a DataFrame\n",
      "\n",
      "See the caveats in the documentation: https://pandas.pydata.org/pandas-docs/stable/user_guide/indexing.html#returning-a-view-versus-a-copy\n",
      "  bats.dropna(subset='type',inplace=True)\n"
     ]
    },
    {
     "data": {
      "application/vnd.jupyter.widget-view+json": {
       "model_id": "5ed607188d1545a19d45392a483eed58",
       "version_major": 2,
       "version_minor": 0
      },
      "text/plain": [
       "  0%|          | 0/20 [00:00<?, ?it/s]"
      ]
     },
     "metadata": {},
     "output_type": "display_data"
    },
    {
     "name": "stdout",
     "output_type": "stream",
     "text": [
      "Gathering Player Data\n"
     ]
    },
    {
     "name": "stderr",
     "output_type": "stream",
     "text": [
      "/var/folders/1v/6kfsg1sj1h94v2jtztzln6rh0000gn/T/ipykernel_6546/1231845333.py:14: SettingWithCopyWarning: \n",
      "A value is trying to be set on a copy of a slice from a DataFrame\n",
      "\n",
      "See the caveats in the documentation: https://pandas.pydata.org/pandas-docs/stable/user_guide/indexing.html#returning-a-view-versus-a-copy\n",
      "  bats.dropna(subset='type',inplace=True)\n",
      "/var/folders/1v/6kfsg1sj1h94v2jtztzln6rh0000gn/T/ipykernel_6546/1231845333.py:14: SettingWithCopyWarning: \n",
      "A value is trying to be set on a copy of a slice from a DataFrame\n",
      "\n",
      "See the caveats in the documentation: https://pandas.pydata.org/pandas-docs/stable/user_guide/indexing.html#returning-a-view-versus-a-copy\n",
      "  bats.dropna(subset='type',inplace=True)\n",
      "/var/folders/1v/6kfsg1sj1h94v2jtztzln6rh0000gn/T/ipykernel_6546/1231845333.py:14: SettingWithCopyWarning: \n",
      "A value is trying to be set on a copy of a slice from a DataFrame\n",
      "\n",
      "See the caveats in the documentation: https://pandas.pydata.org/pandas-docs/stable/user_guide/indexing.html#returning-a-view-versus-a-copy\n",
      "  bats.dropna(subset='type',inplace=True)\n"
     ]
    },
    {
     "name": "stdout",
     "output_type": "stream",
     "text": [
      "348\n",
      "Gathering Player Data\n"
     ]
    },
    {
     "name": "stderr",
     "output_type": "stream",
     "text": [
      "/var/folders/1v/6kfsg1sj1h94v2jtztzln6rh0000gn/T/ipykernel_6546/1231845333.py:14: SettingWithCopyWarning: \n",
      "A value is trying to be set on a copy of a slice from a DataFrame\n",
      "\n",
      "See the caveats in the documentation: https://pandas.pydata.org/pandas-docs/stable/user_guide/indexing.html#returning-a-view-versus-a-copy\n",
      "  bats.dropna(subset='type',inplace=True)\n",
      "/var/folders/1v/6kfsg1sj1h94v2jtztzln6rh0000gn/T/ipykernel_6546/1231845333.py:14: SettingWithCopyWarning: \n",
      "A value is trying to be set on a copy of a slice from a DataFrame\n",
      "\n",
      "See the caveats in the documentation: https://pandas.pydata.org/pandas-docs/stable/user_guide/indexing.html#returning-a-view-versus-a-copy\n",
      "  bats.dropna(subset='type',inplace=True)\n",
      "/var/folders/1v/6kfsg1sj1h94v2jtztzln6rh0000gn/T/ipykernel_6546/1231845333.py:14: SettingWithCopyWarning: \n",
      "A value is trying to be set on a copy of a slice from a DataFrame\n",
      "\n",
      "See the caveats in the documentation: https://pandas.pydata.org/pandas-docs/stable/user_guide/indexing.html#returning-a-view-versus-a-copy\n",
      "  bats.dropna(subset='type',inplace=True)\n"
     ]
    },
    {
     "name": "stdout",
     "output_type": "stream",
     "text": [
      "97\n",
      "Gathering Player Data\n"
     ]
    },
    {
     "name": "stderr",
     "output_type": "stream",
     "text": [
      "/var/folders/1v/6kfsg1sj1h94v2jtztzln6rh0000gn/T/ipykernel_6546/1231845333.py:14: SettingWithCopyWarning: \n",
      "A value is trying to be set on a copy of a slice from a DataFrame\n",
      "\n",
      "See the caveats in the documentation: https://pandas.pydata.org/pandas-docs/stable/user_guide/indexing.html#returning-a-view-versus-a-copy\n",
      "  bats.dropna(subset='type',inplace=True)\n",
      "/var/folders/1v/6kfsg1sj1h94v2jtztzln6rh0000gn/T/ipykernel_6546/1231845333.py:14: SettingWithCopyWarning: \n",
      "A value is trying to be set on a copy of a slice from a DataFrame\n",
      "\n",
      "See the caveats in the documentation: https://pandas.pydata.org/pandas-docs/stable/user_guide/indexing.html#returning-a-view-versus-a-copy\n",
      "  bats.dropna(subset='type',inplace=True)\n",
      "/var/folders/1v/6kfsg1sj1h94v2jtztzln6rh0000gn/T/ipykernel_6546/1231845333.py:14: SettingWithCopyWarning: \n",
      "A value is trying to be set on a copy of a slice from a DataFrame\n",
      "\n",
      "See the caveats in the documentation: https://pandas.pydata.org/pandas-docs/stable/user_guide/indexing.html#returning-a-view-versus-a-copy\n",
      "  bats.dropna(subset='type',inplace=True)\n"
     ]
    },
    {
     "name": "stdout",
     "output_type": "stream",
     "text": [
      "355\n",
      "Gathering Player Data\n"
     ]
    },
    {
     "name": "stderr",
     "output_type": "stream",
     "text": [
      "/var/folders/1v/6kfsg1sj1h94v2jtztzln6rh0000gn/T/ipykernel_6546/1231845333.py:14: SettingWithCopyWarning: \n",
      "A value is trying to be set on a copy of a slice from a DataFrame\n",
      "\n",
      "See the caveats in the documentation: https://pandas.pydata.org/pandas-docs/stable/user_guide/indexing.html#returning-a-view-versus-a-copy\n",
      "  bats.dropna(subset='type',inplace=True)\n",
      "/var/folders/1v/6kfsg1sj1h94v2jtztzln6rh0000gn/T/ipykernel_6546/1231845333.py:14: SettingWithCopyWarning: \n",
      "A value is trying to be set on a copy of a slice from a DataFrame\n",
      "\n",
      "See the caveats in the documentation: https://pandas.pydata.org/pandas-docs/stable/user_guide/indexing.html#returning-a-view-versus-a-copy\n",
      "  bats.dropna(subset='type',inplace=True)\n",
      "/var/folders/1v/6kfsg1sj1h94v2jtztzln6rh0000gn/T/ipykernel_6546/1231845333.py:14: SettingWithCopyWarning: \n",
      "A value is trying to be set on a copy of a slice from a DataFrame\n",
      "\n",
      "See the caveats in the documentation: https://pandas.pydata.org/pandas-docs/stable/user_guide/indexing.html#returning-a-view-versus-a-copy\n",
      "  bats.dropna(subset='type',inplace=True)\n"
     ]
    },
    {
     "name": "stdout",
     "output_type": "stream",
     "text": [
      "396\n",
      "Gathering Player Data\n"
     ]
    },
    {
     "name": "stderr",
     "output_type": "stream",
     "text": [
      "/var/folders/1v/6kfsg1sj1h94v2jtztzln6rh0000gn/T/ipykernel_6546/1231845333.py:14: SettingWithCopyWarning: \n",
      "A value is trying to be set on a copy of a slice from a DataFrame\n",
      "\n",
      "See the caveats in the documentation: https://pandas.pydata.org/pandas-docs/stable/user_guide/indexing.html#returning-a-view-versus-a-copy\n",
      "  bats.dropna(subset='type',inplace=True)\n",
      "/var/folders/1v/6kfsg1sj1h94v2jtztzln6rh0000gn/T/ipykernel_6546/1231845333.py:14: SettingWithCopyWarning: \n",
      "A value is trying to be set on a copy of a slice from a DataFrame\n",
      "\n",
      "See the caveats in the documentation: https://pandas.pydata.org/pandas-docs/stable/user_guide/indexing.html#returning-a-view-versus-a-copy\n",
      "  bats.dropna(subset='type',inplace=True)\n",
      "/var/folders/1v/6kfsg1sj1h94v2jtztzln6rh0000gn/T/ipykernel_6546/1231845333.py:14: SettingWithCopyWarning: \n",
      "A value is trying to be set on a copy of a slice from a DataFrame\n",
      "\n",
      "See the caveats in the documentation: https://pandas.pydata.org/pandas-docs/stable/user_guide/indexing.html#returning-a-view-versus-a-copy\n",
      "  bats.dropna(subset='type',inplace=True)\n"
     ]
    },
    {
     "name": "stdout",
     "output_type": "stream",
     "text": [
      "101\n",
      "Gathering Player Data\n"
     ]
    },
    {
     "name": "stderr",
     "output_type": "stream",
     "text": [
      "/var/folders/1v/6kfsg1sj1h94v2jtztzln6rh0000gn/T/ipykernel_6546/1231845333.py:14: SettingWithCopyWarning: \n",
      "A value is trying to be set on a copy of a slice from a DataFrame\n",
      "\n",
      "See the caveats in the documentation: https://pandas.pydata.org/pandas-docs/stable/user_guide/indexing.html#returning-a-view-versus-a-copy\n",
      "  bats.dropna(subset='type',inplace=True)\n",
      "/var/folders/1v/6kfsg1sj1h94v2jtztzln6rh0000gn/T/ipykernel_6546/1231845333.py:14: SettingWithCopyWarning: \n",
      "A value is trying to be set on a copy of a slice from a DataFrame\n",
      "\n",
      "See the caveats in the documentation: https://pandas.pydata.org/pandas-docs/stable/user_guide/indexing.html#returning-a-view-versus-a-copy\n",
      "  bats.dropna(subset='type',inplace=True)\n",
      "/var/folders/1v/6kfsg1sj1h94v2jtztzln6rh0000gn/T/ipykernel_6546/1231845333.py:14: SettingWithCopyWarning: \n",
      "A value is trying to be set on a copy of a slice from a DataFrame\n",
      "\n",
      "See the caveats in the documentation: https://pandas.pydata.org/pandas-docs/stable/user_guide/indexing.html#returning-a-view-versus-a-copy\n",
      "  bats.dropna(subset='type',inplace=True)\n"
     ]
    },
    {
     "name": "stdout",
     "output_type": "stream",
     "text": [
      "710\n",
      "Gathering Player Data\n"
     ]
    },
    {
     "name": "stderr",
     "output_type": "stream",
     "text": [
      "/var/folders/1v/6kfsg1sj1h94v2jtztzln6rh0000gn/T/ipykernel_6546/1231845333.py:14: SettingWithCopyWarning: \n",
      "A value is trying to be set on a copy of a slice from a DataFrame\n",
      "\n",
      "See the caveats in the documentation: https://pandas.pydata.org/pandas-docs/stable/user_guide/indexing.html#returning-a-view-versus-a-copy\n",
      "  bats.dropna(subset='type',inplace=True)\n",
      "/var/folders/1v/6kfsg1sj1h94v2jtztzln6rh0000gn/T/ipykernel_6546/1231845333.py:14: SettingWithCopyWarning: \n",
      "A value is trying to be set on a copy of a slice from a DataFrame\n",
      "\n",
      "See the caveats in the documentation: https://pandas.pydata.org/pandas-docs/stable/user_guide/indexing.html#returning-a-view-versus-a-copy\n",
      "  bats.dropna(subset='type',inplace=True)\n",
      "/var/folders/1v/6kfsg1sj1h94v2jtztzln6rh0000gn/T/ipykernel_6546/1231845333.py:14: SettingWithCopyWarning: \n",
      "A value is trying to be set on a copy of a slice from a DataFrame\n",
      "\n",
      "See the caveats in the documentation: https://pandas.pydata.org/pandas-docs/stable/user_guide/indexing.html#returning-a-view-versus-a-copy\n",
      "  bats.dropna(subset='type',inplace=True)\n"
     ]
    },
    {
     "name": "stdout",
     "output_type": "stream",
     "text": [
      "184\n",
      "Gathering Player Data\n"
     ]
    },
    {
     "name": "stderr",
     "output_type": "stream",
     "text": [
      "/var/folders/1v/6kfsg1sj1h94v2jtztzln6rh0000gn/T/ipykernel_6546/1231845333.py:14: SettingWithCopyWarning: \n",
      "A value is trying to be set on a copy of a slice from a DataFrame\n",
      "\n",
      "See the caveats in the documentation: https://pandas.pydata.org/pandas-docs/stable/user_guide/indexing.html#returning-a-view-versus-a-copy\n",
      "  bats.dropna(subset='type',inplace=True)\n",
      "/var/folders/1v/6kfsg1sj1h94v2jtztzln6rh0000gn/T/ipykernel_6546/1231845333.py:14: SettingWithCopyWarning: \n",
      "A value is trying to be set on a copy of a slice from a DataFrame\n",
      "\n",
      "See the caveats in the documentation: https://pandas.pydata.org/pandas-docs/stable/user_guide/indexing.html#returning-a-view-versus-a-copy\n",
      "  bats.dropna(subset='type',inplace=True)\n",
      "/var/folders/1v/6kfsg1sj1h94v2jtztzln6rh0000gn/T/ipykernel_6546/1231845333.py:14: SettingWithCopyWarning: \n",
      "A value is trying to be set on a copy of a slice from a DataFrame\n",
      "\n",
      "See the caveats in the documentation: https://pandas.pydata.org/pandas-docs/stable/user_guide/indexing.html#returning-a-view-versus-a-copy\n",
      "  bats.dropna(subset='type',inplace=True)\n"
     ]
    },
    {
     "name": "stdout",
     "output_type": "stream",
     "text": [
      "500\n",
      "Gathering Player Data\n"
     ]
    },
    {
     "name": "stderr",
     "output_type": "stream",
     "text": [
      "/var/folders/1v/6kfsg1sj1h94v2jtztzln6rh0000gn/T/ipykernel_6546/1231845333.py:14: SettingWithCopyWarning: \n",
      "A value is trying to be set on a copy of a slice from a DataFrame\n",
      "\n",
      "See the caveats in the documentation: https://pandas.pydata.org/pandas-docs/stable/user_guide/indexing.html#returning-a-view-versus-a-copy\n",
      "  bats.dropna(subset='type',inplace=True)\n",
      "/var/folders/1v/6kfsg1sj1h94v2jtztzln6rh0000gn/T/ipykernel_6546/1231845333.py:14: SettingWithCopyWarning: \n",
      "A value is trying to be set on a copy of a slice from a DataFrame\n",
      "\n",
      "See the caveats in the documentation: https://pandas.pydata.org/pandas-docs/stable/user_guide/indexing.html#returning-a-view-versus-a-copy\n",
      "  bats.dropna(subset='type',inplace=True)\n",
      "/var/folders/1v/6kfsg1sj1h94v2jtztzln6rh0000gn/T/ipykernel_6546/1231845333.py:14: SettingWithCopyWarning: \n",
      "A value is trying to be set on a copy of a slice from a DataFrame\n",
      "\n",
      "See the caveats in the documentation: https://pandas.pydata.org/pandas-docs/stable/user_guide/indexing.html#returning-a-view-versus-a-copy\n",
      "  bats.dropna(subset='type',inplace=True)\n"
     ]
    },
    {
     "name": "stdout",
     "output_type": "stream",
     "text": [
      "937\n",
      "Gathering Player Data\n"
     ]
    },
    {
     "name": "stderr",
     "output_type": "stream",
     "text": [
      "/var/folders/1v/6kfsg1sj1h94v2jtztzln6rh0000gn/T/ipykernel_6546/1231845333.py:14: SettingWithCopyWarning: \n",
      "A value is trying to be set on a copy of a slice from a DataFrame\n",
      "\n",
      "See the caveats in the documentation: https://pandas.pydata.org/pandas-docs/stable/user_guide/indexing.html#returning-a-view-versus-a-copy\n",
      "  bats.dropna(subset='type',inplace=True)\n",
      "/var/folders/1v/6kfsg1sj1h94v2jtztzln6rh0000gn/T/ipykernel_6546/1231845333.py:14: SettingWithCopyWarning: \n",
      "A value is trying to be set on a copy of a slice from a DataFrame\n",
      "\n",
      "See the caveats in the documentation: https://pandas.pydata.org/pandas-docs/stable/user_guide/indexing.html#returning-a-view-versus-a-copy\n",
      "  bats.dropna(subset='type',inplace=True)\n",
      "/var/folders/1v/6kfsg1sj1h94v2jtztzln6rh0000gn/T/ipykernel_6546/1231845333.py:14: SettingWithCopyWarning: \n",
      "A value is trying to be set on a copy of a slice from a DataFrame\n",
      "\n",
      "See the caveats in the documentation: https://pandas.pydata.org/pandas-docs/stable/user_guide/indexing.html#returning-a-view-versus-a-copy\n",
      "  bats.dropna(subset='type',inplace=True)\n"
     ]
    },
    {
     "name": "stdout",
     "output_type": "stream",
     "text": [
      "487\n",
      "Gathering Player Data\n"
     ]
    },
    {
     "name": "stderr",
     "output_type": "stream",
     "text": [
      "/var/folders/1v/6kfsg1sj1h94v2jtztzln6rh0000gn/T/ipykernel_6546/1231845333.py:14: SettingWithCopyWarning: \n",
      "A value is trying to be set on a copy of a slice from a DataFrame\n",
      "\n",
      "See the caveats in the documentation: https://pandas.pydata.org/pandas-docs/stable/user_guide/indexing.html#returning-a-view-versus-a-copy\n",
      "  bats.dropna(subset='type',inplace=True)\n",
      "/var/folders/1v/6kfsg1sj1h94v2jtztzln6rh0000gn/T/ipykernel_6546/1231845333.py:14: SettingWithCopyWarning: \n",
      "A value is trying to be set on a copy of a slice from a DataFrame\n",
      "\n",
      "See the caveats in the documentation: https://pandas.pydata.org/pandas-docs/stable/user_guide/indexing.html#returning-a-view-versus-a-copy\n",
      "  bats.dropna(subset='type',inplace=True)\n",
      "/var/folders/1v/6kfsg1sj1h94v2jtztzln6rh0000gn/T/ipykernel_6546/1231845333.py:14: SettingWithCopyWarning: \n",
      "A value is trying to be set on a copy of a slice from a DataFrame\n",
      "\n",
      "See the caveats in the documentation: https://pandas.pydata.org/pandas-docs/stable/user_guide/indexing.html#returning-a-view-versus-a-copy\n",
      "  bats.dropna(subset='type',inplace=True)\n"
     ]
    },
    {
     "name": "stdout",
     "output_type": "stream",
     "text": [
      "525\n",
      "Gathering Player Data\n"
     ]
    },
    {
     "name": "stderr",
     "output_type": "stream",
     "text": [
      "/Users/moksh/miniforge3/lib/python3.10/site-packages/pybaseball/utils.py:295: DtypeWarning: Columns (87,88) have mixed types. Specify dtype option on import or set low_memory=False.\n",
      "  df = pd.read_csv(io.StringIO(data.text))\n",
      "/var/folders/1v/6kfsg1sj1h94v2jtztzln6rh0000gn/T/ipykernel_6546/1231845333.py:14: SettingWithCopyWarning: \n",
      "A value is trying to be set on a copy of a slice from a DataFrame\n",
      "\n",
      "See the caveats in the documentation: https://pandas.pydata.org/pandas-docs/stable/user_guide/indexing.html#returning-a-view-versus-a-copy\n",
      "  bats.dropna(subset='type',inplace=True)\n",
      "/var/folders/1v/6kfsg1sj1h94v2jtztzln6rh0000gn/T/ipykernel_6546/1231845333.py:14: SettingWithCopyWarning: \n",
      "A value is trying to be set on a copy of a slice from a DataFrame\n",
      "\n",
      "See the caveats in the documentation: https://pandas.pydata.org/pandas-docs/stable/user_guide/indexing.html#returning-a-view-versus-a-copy\n",
      "  bats.dropna(subset='type',inplace=True)\n",
      "/var/folders/1v/6kfsg1sj1h94v2jtztzln6rh0000gn/T/ipykernel_6546/1231845333.py:14: SettingWithCopyWarning: \n",
      "A value is trying to be set on a copy of a slice from a DataFrame\n",
      "\n",
      "See the caveats in the documentation: https://pandas.pydata.org/pandas-docs/stable/user_guide/indexing.html#returning-a-view-versus-a-copy\n",
      "  bats.dropna(subset='type',inplace=True)\n"
     ]
    },
    {
     "name": "stdout",
     "output_type": "stream",
     "text": [
      "1924\n",
      "Gathering Player Data\n"
     ]
    },
    {
     "name": "stderr",
     "output_type": "stream",
     "text": [
      "/var/folders/1v/6kfsg1sj1h94v2jtztzln6rh0000gn/T/ipykernel_6546/1231845333.py:14: SettingWithCopyWarning: \n",
      "A value is trying to be set on a copy of a slice from a DataFrame\n",
      "\n",
      "See the caveats in the documentation: https://pandas.pydata.org/pandas-docs/stable/user_guide/indexing.html#returning-a-view-versus-a-copy\n",
      "  bats.dropna(subset='type',inplace=True)\n",
      "/var/folders/1v/6kfsg1sj1h94v2jtztzln6rh0000gn/T/ipykernel_6546/1231845333.py:14: SettingWithCopyWarning: \n",
      "A value is trying to be set on a copy of a slice from a DataFrame\n",
      "\n",
      "See the caveats in the documentation: https://pandas.pydata.org/pandas-docs/stable/user_guide/indexing.html#returning-a-view-versus-a-copy\n",
      "  bats.dropna(subset='type',inplace=True)\n",
      "/var/folders/1v/6kfsg1sj1h94v2jtztzln6rh0000gn/T/ipykernel_6546/1231845333.py:14: SettingWithCopyWarning: \n",
      "A value is trying to be set on a copy of a slice from a DataFrame\n",
      "\n",
      "See the caveats in the documentation: https://pandas.pydata.org/pandas-docs/stable/user_guide/indexing.html#returning-a-view-versus-a-copy\n",
      "  bats.dropna(subset='type',inplace=True)\n"
     ]
    },
    {
     "name": "stdout",
     "output_type": "stream",
     "text": [
      "1074\n",
      "Gathering Player Data\n"
     ]
    },
    {
     "name": "stderr",
     "output_type": "stream",
     "text": [
      "/var/folders/1v/6kfsg1sj1h94v2jtztzln6rh0000gn/T/ipykernel_6546/1231845333.py:14: SettingWithCopyWarning: \n",
      "A value is trying to be set on a copy of a slice from a DataFrame\n",
      "\n",
      "See the caveats in the documentation: https://pandas.pydata.org/pandas-docs/stable/user_guide/indexing.html#returning-a-view-versus-a-copy\n",
      "  bats.dropna(subset='type',inplace=True)\n",
      "/var/folders/1v/6kfsg1sj1h94v2jtztzln6rh0000gn/T/ipykernel_6546/1231845333.py:14: SettingWithCopyWarning: \n",
      "A value is trying to be set on a copy of a slice from a DataFrame\n",
      "\n",
      "See the caveats in the documentation: https://pandas.pydata.org/pandas-docs/stable/user_guide/indexing.html#returning-a-view-versus-a-copy\n",
      "  bats.dropna(subset='type',inplace=True)\n",
      "/var/folders/1v/6kfsg1sj1h94v2jtztzln6rh0000gn/T/ipykernel_6546/1231845333.py:14: SettingWithCopyWarning: \n",
      "A value is trying to be set on a copy of a slice from a DataFrame\n",
      "\n",
      "See the caveats in the documentation: https://pandas.pydata.org/pandas-docs/stable/user_guide/indexing.html#returning-a-view-versus-a-copy\n",
      "  bats.dropna(subset='type',inplace=True)\n"
     ]
    },
    {
     "name": "stdout",
     "output_type": "stream",
     "text": [
      "1026\n",
      "Gathering Player Data\n"
     ]
    },
    {
     "name": "stderr",
     "output_type": "stream",
     "text": [
      "/Users/moksh/miniforge3/lib/python3.10/site-packages/pybaseball/utils.py:295: DtypeWarning: Columns (87,88) have mixed types. Specify dtype option on import or set low_memory=False.\n",
      "  df = pd.read_csv(io.StringIO(data.text))\n",
      "/Users/moksh/miniforge3/lib/python3.10/site-packages/pybaseball/utils.py:295: DtypeWarning: Columns (0,78,87,88) have mixed types. Specify dtype option on import or set low_memory=False.\n",
      "  df = pd.read_csv(io.StringIO(data.text))\n",
      "/var/folders/1v/6kfsg1sj1h94v2jtztzln6rh0000gn/T/ipykernel_6546/1231845333.py:14: SettingWithCopyWarning: \n",
      "A value is trying to be set on a copy of a slice from a DataFrame\n",
      "\n",
      "See the caveats in the documentation: https://pandas.pydata.org/pandas-docs/stable/user_guide/indexing.html#returning-a-view-versus-a-copy\n",
      "  bats.dropna(subset='type',inplace=True)\n",
      "/var/folders/1v/6kfsg1sj1h94v2jtztzln6rh0000gn/T/ipykernel_6546/1231845333.py:14: SettingWithCopyWarning: \n",
      "A value is trying to be set on a copy of a slice from a DataFrame\n",
      "\n",
      "See the caveats in the documentation: https://pandas.pydata.org/pandas-docs/stable/user_guide/indexing.html#returning-a-view-versus-a-copy\n",
      "  bats.dropna(subset='type',inplace=True)\n",
      "/var/folders/1v/6kfsg1sj1h94v2jtztzln6rh0000gn/T/ipykernel_6546/1231845333.py:14: SettingWithCopyWarning: \n",
      "A value is trying to be set on a copy of a slice from a DataFrame\n",
      "\n",
      "See the caveats in the documentation: https://pandas.pydata.org/pandas-docs/stable/user_guide/indexing.html#returning-a-view-versus-a-copy\n",
      "  bats.dropna(subset='type',inplace=True)\n"
     ]
    },
    {
     "name": "stdout",
     "output_type": "stream",
     "text": [
      "1455\n",
      "Gathering Player Data\n"
     ]
    },
    {
     "name": "stderr",
     "output_type": "stream",
     "text": [
      "/var/folders/1v/6kfsg1sj1h94v2jtztzln6rh0000gn/T/ipykernel_6546/1231845333.py:14: SettingWithCopyWarning: \n",
      "A value is trying to be set on a copy of a slice from a DataFrame\n",
      "\n",
      "See the caveats in the documentation: https://pandas.pydata.org/pandas-docs/stable/user_guide/indexing.html#returning-a-view-versus-a-copy\n",
      "  bats.dropna(subset='type',inplace=True)\n",
      "/var/folders/1v/6kfsg1sj1h94v2jtztzln6rh0000gn/T/ipykernel_6546/1231845333.py:14: SettingWithCopyWarning: \n",
      "A value is trying to be set on a copy of a slice from a DataFrame\n",
      "\n",
      "See the caveats in the documentation: https://pandas.pydata.org/pandas-docs/stable/user_guide/indexing.html#returning-a-view-versus-a-copy\n",
      "  bats.dropna(subset='type',inplace=True)\n",
      "/var/folders/1v/6kfsg1sj1h94v2jtztzln6rh0000gn/T/ipykernel_6546/1231845333.py:14: SettingWithCopyWarning: \n",
      "A value is trying to be set on a copy of a slice from a DataFrame\n",
      "\n",
      "See the caveats in the documentation: https://pandas.pydata.org/pandas-docs/stable/user_guide/indexing.html#returning-a-view-versus-a-copy\n",
      "  bats.dropna(subset='type',inplace=True)\n"
     ]
    },
    {
     "name": "stdout",
     "output_type": "stream",
     "text": [
      "554\n",
      "Gathering Player Data\n"
     ]
    },
    {
     "name": "stderr",
     "output_type": "stream",
     "text": [
      "/var/folders/1v/6kfsg1sj1h94v2jtztzln6rh0000gn/T/ipykernel_6546/1231845333.py:14: SettingWithCopyWarning: \n",
      "A value is trying to be set on a copy of a slice from a DataFrame\n",
      "\n",
      "See the caveats in the documentation: https://pandas.pydata.org/pandas-docs/stable/user_guide/indexing.html#returning-a-view-versus-a-copy\n",
      "  bats.dropna(subset='type',inplace=True)\n",
      "/var/folders/1v/6kfsg1sj1h94v2jtztzln6rh0000gn/T/ipykernel_6546/1231845333.py:14: SettingWithCopyWarning: \n",
      "A value is trying to be set on a copy of a slice from a DataFrame\n",
      "\n",
      "See the caveats in the documentation: https://pandas.pydata.org/pandas-docs/stable/user_guide/indexing.html#returning-a-view-versus-a-copy\n",
      "  bats.dropna(subset='type',inplace=True)\n",
      "/var/folders/1v/6kfsg1sj1h94v2jtztzln6rh0000gn/T/ipykernel_6546/1231845333.py:14: SettingWithCopyWarning: \n",
      "A value is trying to be set on a copy of a slice from a DataFrame\n",
      "\n",
      "See the caveats in the documentation: https://pandas.pydata.org/pandas-docs/stable/user_guide/indexing.html#returning-a-view-versus-a-copy\n",
      "  bats.dropna(subset='type',inplace=True)\n"
     ]
    },
    {
     "name": "stdout",
     "output_type": "stream",
     "text": [
      "1292\n",
      "Gathering Player Data\n"
     ]
    },
    {
     "name": "stderr",
     "output_type": "stream",
     "text": [
      "/var/folders/1v/6kfsg1sj1h94v2jtztzln6rh0000gn/T/ipykernel_6546/1231845333.py:14: SettingWithCopyWarning: \n",
      "A value is trying to be set on a copy of a slice from a DataFrame\n",
      "\n",
      "See the caveats in the documentation: https://pandas.pydata.org/pandas-docs/stable/user_guide/indexing.html#returning-a-view-versus-a-copy\n",
      "  bats.dropna(subset='type',inplace=True)\n",
      "/var/folders/1v/6kfsg1sj1h94v2jtztzln6rh0000gn/T/ipykernel_6546/1231845333.py:14: SettingWithCopyWarning: \n",
      "A value is trying to be set on a copy of a slice from a DataFrame\n",
      "\n",
      "See the caveats in the documentation: https://pandas.pydata.org/pandas-docs/stable/user_guide/indexing.html#returning-a-view-versus-a-copy\n",
      "  bats.dropna(subset='type',inplace=True)\n",
      "/var/folders/1v/6kfsg1sj1h94v2jtztzln6rh0000gn/T/ipykernel_6546/1231845333.py:14: SettingWithCopyWarning: \n",
      "A value is trying to be set on a copy of a slice from a DataFrame\n",
      "\n",
      "See the caveats in the documentation: https://pandas.pydata.org/pandas-docs/stable/user_guide/indexing.html#returning-a-view-versus-a-copy\n",
      "  bats.dropna(subset='type',inplace=True)\n"
     ]
    },
    {
     "name": "stdout",
     "output_type": "stream",
     "text": [
      "938\n",
      "Gathering Player Data\n"
     ]
    },
    {
     "name": "stderr",
     "output_type": "stream",
     "text": [
      "/var/folders/1v/6kfsg1sj1h94v2jtztzln6rh0000gn/T/ipykernel_6546/1231845333.py:14: SettingWithCopyWarning: \n",
      "A value is trying to be set on a copy of a slice from a DataFrame\n",
      "\n",
      "See the caveats in the documentation: https://pandas.pydata.org/pandas-docs/stable/user_guide/indexing.html#returning-a-view-versus-a-copy\n",
      "  bats.dropna(subset='type',inplace=True)\n",
      "/var/folders/1v/6kfsg1sj1h94v2jtztzln6rh0000gn/T/ipykernel_6546/1231845333.py:14: SettingWithCopyWarning: \n",
      "A value is trying to be set on a copy of a slice from a DataFrame\n",
      "\n",
      "See the caveats in the documentation: https://pandas.pydata.org/pandas-docs/stable/user_guide/indexing.html#returning-a-view-versus-a-copy\n",
      "  bats.dropna(subset='type',inplace=True)\n",
      "/var/folders/1v/6kfsg1sj1h94v2jtztzln6rh0000gn/T/ipykernel_6546/1231845333.py:14: SettingWithCopyWarning: \n",
      "A value is trying to be set on a copy of a slice from a DataFrame\n",
      "\n",
      "See the caveats in the documentation: https://pandas.pydata.org/pandas-docs/stable/user_guide/indexing.html#returning-a-view-versus-a-copy\n",
      "  bats.dropna(subset='type',inplace=True)\n"
     ]
    },
    {
     "name": "stdout",
     "output_type": "stream",
     "text": [
      "41\n",
      "Gathering Player Data\n"
     ]
    },
    {
     "name": "stderr",
     "output_type": "stream",
     "text": [
      "/Users/moksh/miniforge3/lib/python3.10/site-packages/pybaseball/utils.py:295: DtypeWarning: Columns (87,88) have mixed types. Specify dtype option on import or set low_memory=False.\n",
      "  df = pd.read_csv(io.StringIO(data.text))\n"
     ]
    },
    {
     "name": "stdout",
     "output_type": "stream",
     "text": [
      "2733\n"
     ]
    },
    {
     "name": "stderr",
     "output_type": "stream",
     "text": [
      "/var/folders/1v/6kfsg1sj1h94v2jtztzln6rh0000gn/T/ipykernel_6546/1231845333.py:14: SettingWithCopyWarning: \n",
      "A value is trying to be set on a copy of a slice from a DataFrame\n",
      "\n",
      "See the caveats in the documentation: https://pandas.pydata.org/pandas-docs/stable/user_guide/indexing.html#returning-a-view-versus-a-copy\n",
      "  bats.dropna(subset='type',inplace=True)\n",
      "/var/folders/1v/6kfsg1sj1h94v2jtztzln6rh0000gn/T/ipykernel_6546/1231845333.py:14: SettingWithCopyWarning: \n",
      "A value is trying to be set on a copy of a slice from a DataFrame\n",
      "\n",
      "See the caveats in the documentation: https://pandas.pydata.org/pandas-docs/stable/user_guide/indexing.html#returning-a-view-versus-a-copy\n",
      "  bats.dropna(subset='type',inplace=True)\n",
      "/var/folders/1v/6kfsg1sj1h94v2jtztzln6rh0000gn/T/ipykernel_6546/1231845333.py:14: SettingWithCopyWarning: \n",
      "A value is trying to be set on a copy of a slice from a DataFrame\n",
      "\n",
      "See the caveats in the documentation: https://pandas.pydata.org/pandas-docs/stable/user_guide/indexing.html#returning-a-view-versus-a-copy\n",
      "  bats.dropna(subset='type',inplace=True)\n"
     ]
    },
    {
     "data": {
      "application/vnd.jupyter.widget-view+json": {
       "model_id": "bbe28b290e9344eabe6ce32953260644",
       "version_major": 2,
       "version_minor": 0
      },
      "text/plain": [
       "  0%|          | 0/20 [00:00<?, ?it/s]"
      ]
     },
     "metadata": {},
     "output_type": "display_data"
    },
    {
     "name": "stdout",
     "output_type": "stream",
     "text": [
      "Gathering Player Data\n"
     ]
    },
    {
     "name": "stderr",
     "output_type": "stream",
     "text": [
      "/var/folders/1v/6kfsg1sj1h94v2jtztzln6rh0000gn/T/ipykernel_6546/1231845333.py:14: SettingWithCopyWarning: \n",
      "A value is trying to be set on a copy of a slice from a DataFrame\n",
      "\n",
      "See the caveats in the documentation: https://pandas.pydata.org/pandas-docs/stable/user_guide/indexing.html#returning-a-view-versus-a-copy\n",
      "  bats.dropna(subset='type',inplace=True)\n"
     ]
    },
    {
     "name": "stdout",
     "output_type": "stream",
     "text": [
      "743\n",
      "Gathering Player Data\n"
     ]
    },
    {
     "name": "stderr",
     "output_type": "stream",
     "text": [
      "/var/folders/1v/6kfsg1sj1h94v2jtztzln6rh0000gn/T/ipykernel_6546/1231845333.py:14: SettingWithCopyWarning: \n",
      "A value is trying to be set on a copy of a slice from a DataFrame\n",
      "\n",
      "See the caveats in the documentation: https://pandas.pydata.org/pandas-docs/stable/user_guide/indexing.html#returning-a-view-versus-a-copy\n",
      "  bats.dropna(subset='type',inplace=True)\n"
     ]
    },
    {
     "name": "stdout",
     "output_type": "stream",
     "text": [
      "289\n",
      "Gathering Player Data\n"
     ]
    },
    {
     "name": "stderr",
     "output_type": "stream",
     "text": [
      "/var/folders/1v/6kfsg1sj1h94v2jtztzln6rh0000gn/T/ipykernel_6546/1231845333.py:14: SettingWithCopyWarning: \n",
      "A value is trying to be set on a copy of a slice from a DataFrame\n",
      "\n",
      "See the caveats in the documentation: https://pandas.pydata.org/pandas-docs/stable/user_guide/indexing.html#returning-a-view-versus-a-copy\n",
      "  bats.dropna(subset='type',inplace=True)\n"
     ]
    },
    {
     "name": "stdout",
     "output_type": "stream",
     "text": [
      "768\n",
      "Gathering Player Data\n"
     ]
    },
    {
     "name": "stderr",
     "output_type": "stream",
     "text": [
      "/var/folders/1v/6kfsg1sj1h94v2jtztzln6rh0000gn/T/ipykernel_6546/1231845333.py:14: SettingWithCopyWarning: \n",
      "A value is trying to be set on a copy of a slice from a DataFrame\n",
      "\n",
      "See the caveats in the documentation: https://pandas.pydata.org/pandas-docs/stable/user_guide/indexing.html#returning-a-view-versus-a-copy\n",
      "  bats.dropna(subset='type',inplace=True)\n"
     ]
    },
    {
     "name": "stdout",
     "output_type": "stream",
     "text": [
      "1438\n",
      "Gathering Player Data\n"
     ]
    },
    {
     "name": "stderr",
     "output_type": "stream",
     "text": [
      "/var/folders/1v/6kfsg1sj1h94v2jtztzln6rh0000gn/T/ipykernel_6546/1231845333.py:14: SettingWithCopyWarning: \n",
      "A value is trying to be set on a copy of a slice from a DataFrame\n",
      "\n",
      "See the caveats in the documentation: https://pandas.pydata.org/pandas-docs/stable/user_guide/indexing.html#returning-a-view-versus-a-copy\n",
      "  bats.dropna(subset='type',inplace=True)\n"
     ]
    },
    {
     "name": "stdout",
     "output_type": "stream",
     "text": [
      "275\n",
      "Gathering Player Data\n"
     ]
    },
    {
     "name": "stderr",
     "output_type": "stream",
     "text": [
      "/var/folders/1v/6kfsg1sj1h94v2jtztzln6rh0000gn/T/ipykernel_6546/1231845333.py:14: SettingWithCopyWarning: \n",
      "A value is trying to be set on a copy of a slice from a DataFrame\n",
      "\n",
      "See the caveats in the documentation: https://pandas.pydata.org/pandas-docs/stable/user_guide/indexing.html#returning-a-view-versus-a-copy\n",
      "  bats.dropna(subset='type',inplace=True)\n"
     ]
    },
    {
     "name": "stdout",
     "output_type": "stream",
     "text": [
      "1712\n",
      "Gathering Player Data\n"
     ]
    },
    {
     "name": "stderr",
     "output_type": "stream",
     "text": [
      "/var/folders/1v/6kfsg1sj1h94v2jtztzln6rh0000gn/T/ipykernel_6546/1231845333.py:14: SettingWithCopyWarning: \n",
      "A value is trying to be set on a copy of a slice from a DataFrame\n",
      "\n",
      "See the caveats in the documentation: https://pandas.pydata.org/pandas-docs/stable/user_guide/indexing.html#returning-a-view-versus-a-copy\n",
      "  bats.dropna(subset='type',inplace=True)\n"
     ]
    },
    {
     "name": "stdout",
     "output_type": "stream",
     "text": [
      "436\n",
      "Gathering Player Data\n"
     ]
    },
    {
     "name": "stderr",
     "output_type": "stream",
     "text": [
      "/var/folders/1v/6kfsg1sj1h94v2jtztzln6rh0000gn/T/ipykernel_6546/1231845333.py:14: SettingWithCopyWarning: \n",
      "A value is trying to be set on a copy of a slice from a DataFrame\n",
      "\n",
      "See the caveats in the documentation: https://pandas.pydata.org/pandas-docs/stable/user_guide/indexing.html#returning-a-view-versus-a-copy\n",
      "  bats.dropna(subset='type',inplace=True)\n"
     ]
    },
    {
     "name": "stdout",
     "output_type": "stream",
     "text": [
      "1637\n",
      "Gathering Player Data\n"
     ]
    },
    {
     "name": "stderr",
     "output_type": "stream",
     "text": [
      "/var/folders/1v/6kfsg1sj1h94v2jtztzln6rh0000gn/T/ipykernel_6546/1231845333.py:14: SettingWithCopyWarning: \n",
      "A value is trying to be set on a copy of a slice from a DataFrame\n",
      "\n",
      "See the caveats in the documentation: https://pandas.pydata.org/pandas-docs/stable/user_guide/indexing.html#returning-a-view-versus-a-copy\n",
      "  bats.dropna(subset='type',inplace=True)\n"
     ]
    },
    {
     "name": "stdout",
     "output_type": "stream",
     "text": [
      "2540\n",
      "Gathering Player Data\n"
     ]
    },
    {
     "name": "stderr",
     "output_type": "stream",
     "text": [
      "/var/folders/1v/6kfsg1sj1h94v2jtztzln6rh0000gn/T/ipykernel_6546/1231845333.py:14: SettingWithCopyWarning: \n",
      "A value is trying to be set on a copy of a slice from a DataFrame\n",
      "\n",
      "See the caveats in the documentation: https://pandas.pydata.org/pandas-docs/stable/user_guide/indexing.html#returning-a-view-versus-a-copy\n",
      "  bats.dropna(subset='type',inplace=True)\n"
     ]
    },
    {
     "name": "stdout",
     "output_type": "stream",
     "text": [
      "1081\n",
      "Gathering Player Data\n"
     ]
    },
    {
     "name": "stderr",
     "output_type": "stream",
     "text": [
      "/var/folders/1v/6kfsg1sj1h94v2jtztzln6rh0000gn/T/ipykernel_6546/1231845333.py:14: SettingWithCopyWarning: \n",
      "A value is trying to be set on a copy of a slice from a DataFrame\n",
      "\n",
      "See the caveats in the documentation: https://pandas.pydata.org/pandas-docs/stable/user_guide/indexing.html#returning-a-view-versus-a-copy\n",
      "  bats.dropna(subset='type',inplace=True)\n"
     ]
    },
    {
     "name": "stdout",
     "output_type": "stream",
     "text": [
      "895\n",
      "Gathering Player Data\n"
     ]
    },
    {
     "name": "stderr",
     "output_type": "stream",
     "text": [
      "/Users/moksh/miniforge3/lib/python3.10/site-packages/pybaseball/utils.py:295: DtypeWarning: Columns (87,88) have mixed types. Specify dtype option on import or set low_memory=False.\n",
      "  df = pd.read_csv(io.StringIO(data.text))\n",
      "/var/folders/1v/6kfsg1sj1h94v2jtztzln6rh0000gn/T/ipykernel_6546/1231845333.py:14: SettingWithCopyWarning: \n",
      "A value is trying to be set on a copy of a slice from a DataFrame\n",
      "\n",
      "See the caveats in the documentation: https://pandas.pydata.org/pandas-docs/stable/user_guide/indexing.html#returning-a-view-versus-a-copy\n",
      "  bats.dropna(subset='type',inplace=True)\n"
     ]
    },
    {
     "name": "stdout",
     "output_type": "stream",
     "text": [
      "2973\n",
      "Gathering Player Data\n"
     ]
    },
    {
     "name": "stderr",
     "output_type": "stream",
     "text": [
      "/var/folders/1v/6kfsg1sj1h94v2jtztzln6rh0000gn/T/ipykernel_6546/1231845333.py:14: SettingWithCopyWarning: \n",
      "A value is trying to be set on a copy of a slice from a DataFrame\n",
      "\n",
      "See the caveats in the documentation: https://pandas.pydata.org/pandas-docs/stable/user_guide/indexing.html#returning-a-view-versus-a-copy\n",
      "  bats.dropna(subset='type',inplace=True)\n"
     ]
    },
    {
     "name": "stdout",
     "output_type": "stream",
     "text": [
      "1753\n",
      "Gathering Player Data\n"
     ]
    },
    {
     "name": "stderr",
     "output_type": "stream",
     "text": [
      "/var/folders/1v/6kfsg1sj1h94v2jtztzln6rh0000gn/T/ipykernel_6546/1231845333.py:14: SettingWithCopyWarning: \n",
      "A value is trying to be set on a copy of a slice from a DataFrame\n",
      "\n",
      "See the caveats in the documentation: https://pandas.pydata.org/pandas-docs/stable/user_guide/indexing.html#returning-a-view-versus-a-copy\n",
      "  bats.dropna(subset='type',inplace=True)\n"
     ]
    },
    {
     "name": "stdout",
     "output_type": "stream",
     "text": [
      "2903\n",
      "Gathering Player Data\n"
     ]
    },
    {
     "name": "stderr",
     "output_type": "stream",
     "text": [
      "/Users/moksh/miniforge3/lib/python3.10/site-packages/pybaseball/utils.py:295: DtypeWarning: Columns (87,88) have mixed types. Specify dtype option on import or set low_memory=False.\n",
      "  df = pd.read_csv(io.StringIO(data.text))\n",
      "/Users/moksh/miniforge3/lib/python3.10/site-packages/pybaseball/utils.py:295: DtypeWarning: Columns (0,78,87,88) have mixed types. Specify dtype option on import or set low_memory=False.\n",
      "  df = pd.read_csv(io.StringIO(data.text))\n",
      "/var/folders/1v/6kfsg1sj1h94v2jtztzln6rh0000gn/T/ipykernel_6546/1231845333.py:14: SettingWithCopyWarning: \n",
      "A value is trying to be set on a copy of a slice from a DataFrame\n",
      "\n",
      "See the caveats in the documentation: https://pandas.pydata.org/pandas-docs/stable/user_guide/indexing.html#returning-a-view-versus-a-copy\n",
      "  bats.dropna(subset='type',inplace=True)\n"
     ]
    },
    {
     "name": "stdout",
     "output_type": "stream",
     "text": [
      "4002\n",
      "Gathering Player Data\n"
     ]
    },
    {
     "name": "stderr",
     "output_type": "stream",
     "text": [
      "/var/folders/1v/6kfsg1sj1h94v2jtztzln6rh0000gn/T/ipykernel_6546/1231845333.py:14: SettingWithCopyWarning: \n",
      "A value is trying to be set on a copy of a slice from a DataFrame\n",
      "\n",
      "See the caveats in the documentation: https://pandas.pydata.org/pandas-docs/stable/user_guide/indexing.html#returning-a-view-versus-a-copy\n",
      "  bats.dropna(subset='type',inplace=True)\n"
     ]
    },
    {
     "name": "stdout",
     "output_type": "stream",
     "text": [
      "1023\n",
      "Gathering Player Data\n"
     ]
    },
    {
     "name": "stderr",
     "output_type": "stream",
     "text": [
      "/var/folders/1v/6kfsg1sj1h94v2jtztzln6rh0000gn/T/ipykernel_6546/1231845333.py:14: SettingWithCopyWarning: \n",
      "A value is trying to be set on a copy of a slice from a DataFrame\n",
      "\n",
      "See the caveats in the documentation: https://pandas.pydata.org/pandas-docs/stable/user_guide/indexing.html#returning-a-view-versus-a-copy\n",
      "  bats.dropna(subset='type',inplace=True)\n"
     ]
    },
    {
     "name": "stdout",
     "output_type": "stream",
     "text": [
      "2108\n",
      "Gathering Player Data\n"
     ]
    },
    {
     "name": "stderr",
     "output_type": "stream",
     "text": [
      "/var/folders/1v/6kfsg1sj1h94v2jtztzln6rh0000gn/T/ipykernel_6546/1231845333.py:14: SettingWithCopyWarning: \n",
      "A value is trying to be set on a copy of a slice from a DataFrame\n",
      "\n",
      "See the caveats in the documentation: https://pandas.pydata.org/pandas-docs/stable/user_guide/indexing.html#returning-a-view-versus-a-copy\n",
      "  bats.dropna(subset='type',inplace=True)\n"
     ]
    },
    {
     "name": "stdout",
     "output_type": "stream",
     "text": [
      "2410\n",
      "Gathering Player Data\n"
     ]
    },
    {
     "name": "stderr",
     "output_type": "stream",
     "text": [
      "/var/folders/1v/6kfsg1sj1h94v2jtztzln6rh0000gn/T/ipykernel_6546/1231845333.py:14: SettingWithCopyWarning: \n",
      "A value is trying to be set on a copy of a slice from a DataFrame\n",
      "\n",
      "See the caveats in the documentation: https://pandas.pydata.org/pandas-docs/stable/user_guide/indexing.html#returning-a-view-versus-a-copy\n",
      "  bats.dropna(subset='type',inplace=True)\n"
     ]
    },
    {
     "name": "stdout",
     "output_type": "stream",
     "text": [
      "57\n",
      "Gathering Player Data\n"
     ]
    },
    {
     "name": "stderr",
     "output_type": "stream",
     "text": [
      "/Users/moksh/miniforge3/lib/python3.10/site-packages/pybaseball/utils.py:295: DtypeWarning: Columns (87,88) have mixed types. Specify dtype option on import or set low_memory=False.\n",
      "  df = pd.read_csv(io.StringIO(data.text))\n"
     ]
    },
    {
     "name": "stdout",
     "output_type": "stream",
     "text": [
      "5374\n"
     ]
    },
    {
     "name": "stderr",
     "output_type": "stream",
     "text": [
      "/var/folders/1v/6kfsg1sj1h94v2jtztzln6rh0000gn/T/ipykernel_6546/1231845333.py:14: SettingWithCopyWarning: \n",
      "A value is trying to be set on a copy of a slice from a DataFrame\n",
      "\n",
      "See the caveats in the documentation: https://pandas.pydata.org/pandas-docs/stable/user_guide/indexing.html#returning-a-view-versus-a-copy\n",
      "  bats.dropna(subset='type',inplace=True)\n"
     ]
    }
   ],
   "source": [
    "pitches_dict = {}\n",
    "pitch_strings = ['FB','CH','CB', 'SL']\n",
    "for i,pitch in tqdm(enumerate(pitches)):\n",
    "    batters_dict = {}\n",
    "    for batter in tqdm(batters):\n",
    "        batters_dict[batter] = getBatterStats(batter = batter,pitch_types= pitch, end= '2022-06-21',start = '2000-01-01')\n",
    "    total_batting_df = pd.DataFrame(batters_dict).T\n",
    "\n",
    "    pitches_dict[pitch_strings[i]] = total_batting_df\n",
    "    "
   ]
  },
  {
   "cell_type": "code",
   "execution_count": 68,
   "id": "ff2a3bcd",
   "metadata": {},
   "outputs": [],
   "source": [
    "filename = 'hoberg.pickle'\n",
    "pickle.dump(pitches_dict, open(filename, 'wb'))"
   ]
  },
  {
   "cell_type": "code",
   "execution_count": null,
   "id": "b8fcb16c",
   "metadata": {},
   "outputs": [],
   "source": []
  },
  {
   "cell_type": "code",
   "execution_count": null,
   "id": "2a6ce971",
   "metadata": {},
   "outputs": [],
   "source": []
  }
 ],
 "metadata": {
  "kernelspec": {
   "display_name": "Python 3 (ipykernel)",
   "language": "python",
   "name": "python3"
  },
  "language_info": {
   "codemirror_mode": {
    "name": "ipython",
    "version": 3
   },
   "file_extension": ".py",
   "mimetype": "text/x-python",
   "name": "python",
   "nbconvert_exporter": "python",
   "pygments_lexer": "ipython3",
   "version": "3.10.6"
  }
 },
 "nbformat": 4,
 "nbformat_minor": 5
}
