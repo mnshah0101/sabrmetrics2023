{
 "cells": [
  {
   "cell_type": "code",
   "execution_count": null,
   "id": "c86d06da",
   "metadata": {},
   "outputs": [],
   "source": [
    "hoberg_batting_order = {}\n",
    "\n",
    "hoberg_batting_order['away'] = [592626, 573262, 527038, 474832, 573131, 446334, 600303, 642731, 642851]\n",
    "hoberg_batting_order['home'] = [660670, 621020, 542303, 621566, 661388, 606115, 594807, 594838, 671739]"
   ]
  }
 ],
 "metadata": {
  "kernelspec": {
   "display_name": "Python 3 (ipykernel)",
   "language": "python",
   "name": "python3"
  },
  "language_info": {
   "codemirror_mode": {
    "name": "ipython",
    "version": 3
   },
   "file_extension": ".py",
   "mimetype": "text/x-python",
   "name": "python",
   "nbconvert_exporter": "python",
   "pygments_lexer": "ipython3",
   "version": "3.10.6"
  }
 },
 "nbformat": 4,
 "nbformat_minor": 5
}
